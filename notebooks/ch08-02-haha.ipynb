{
 "cells": [
  {
   "cell_type": "markdown",
   "id": "66bc3c91",
   "metadata": {},
   "source": [
    "## 8.4 Applying two Hadamard gates\n",
    "This sample shows that applying 2 Hadamard gates brings a qubit back into the state it was in before applying the first Hadamard gate: a Hadamard gate is its own inverse."
   ]
  },
  {
   "cell_type": "code",
   "execution_count": null,
   "id": "a288897d",
   "metadata": {},
   "outputs": [],
   "source": [
    "using ImageShow\n",
    "using StrangelyDisplayed\n",
    "using StrangelyQuantum"
   ]
  },
  {
   "cell_type": "code",
   "execution_count": null,
   "id": "33d7df05",
   "metadata": {},
   "outputs": [],
   "source": [
    "function haha()\n",
    "    program = Program(2)\n",
    "    step0 = Step()\n",
    "    # Use an X gate to put the first qubit in state 1,\n",
    "    # leave the second in state 0\n",
    "    addGate(step0, X(1))\n",
    "\n",
    "    step1 = Step()\n",
    "    # Apply Hadamard gates to both qubits\n",
    "    addGate(step1, Hadamard(1))\n",
    "    addGate(step1, Hadamard(2))\n",
    "\n",
    "    step2 = Step()\n",
    "    # Apply Hadamard gates to both qubits a second time\n",
    "    addGate(step2, Hadamard(1))\n",
    "    addGate(step2, Hadamard(2))\n",
    "\n",
    "    addStep(program, step0)\n",
    "    addStep(program, step1)\n",
    "    addStep(program, step2)\n",
    "\n",
    "    return program\n",
    "end"
   ]
  },
  {
   "cell_type": "code",
   "execution_count": null,
   "id": "bb442a0d",
   "metadata": {},
   "outputs": [],
   "source": [
    "program = haha()"
   ]
  },
  {
   "cell_type": "markdown",
   "id": "153ed9e8",
   "metadata": {},
   "source": [
    "As the diagram below shows, after applying two Hadamard gates to each of the qubits, they return to the state they started in:"
   ]
  },
  {
   "cell_type": "code",
   "execution_count": null,
   "id": "8c423cf7",
   "metadata": {},
   "outputs": [],
   "source": [
    "drawProgram(program)"
   ]
  }
 ],
 "metadata": {
  "kernelspec": {
   "display_name": "Julia 1.9.0-beta2",
   "language": "julia",
   "name": "julia-1.9"
  },
  "language_info": {
   "file_extension": ".jl",
   "mimetype": "application/julia",
   "name": "julia",
   "version": "1.9.0"
  }
 },
 "nbformat": 4,
 "nbformat_minor": 5
}
