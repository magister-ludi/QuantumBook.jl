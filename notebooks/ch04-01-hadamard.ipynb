{
 "cells": [
  {
   "cell_type": "markdown",
   "id": "a81d25ca",
   "metadata": {},
   "source": [
    "## 4.4 The Hadamard gate: The gate to superposition\n",
    "This example shows the Hadamard gate. When applied to\n",
    "a qubit in a basic state, the qubit will enter a pure state,\n",
    "in which there is an equal chance to measure 1 or to measure 0."
   ]
  },
  {
   "cell_type": "code",
   "execution_count": null,
   "id": "490ed6d4",
   "metadata": {},
   "outputs": [],
   "source": [
    "using ImageShow\n",
    "using StrangelyDisplayed\n",
    "using StrangelyQuantum"
   ]
  },
  {
   "cell_type": "markdown",
   "id": "04978443",
   "metadata": {},
   "source": [
    "The following function (**Listing 4.1**) sets up a circuit with a Hadamard gate. The circuit produces each of 0 and 1 about 50% of the time."
   ]
  },
  {
   "cell_type": "code",
   "execution_count": null,
   "id": "babd03ff",
   "metadata": {},
   "outputs": [],
   "source": [
    "function singleHadamardExecution()\n",
    "    simulator = SimpleQuantumExecutionEnvironment()\n",
    "    program = Program(1)\n",
    "    # Ready to add gates.\n",
    "    step = Step()\n",
    "    # Add a Hadamard gate\n",
    "    addGate(step, Hadamard(1))\n",
    "    addStep(program, step)\n",
    "    # Excecute Program\n",
    "    result = runProgram(simulator, program)\n",
    "    qubits = getQubits(result)\n",
    "    zero = qubits[1]\n",
    "    # Measure the qubit. It will have a value of 0 or 1.\n",
    "    value = measure(zero)\n",
    "    println(\"Value = \", value)\n",
    "    return program\n",
    "end"
   ]
  },
  {
   "cell_type": "markdown",
   "id": "a3b7d959",
   "metadata": {},
   "source": [
    "Executing the function displays the result and returns the `Program`."
   ]
  },
  {
   "cell_type": "code",
   "execution_count": null,
   "id": "727a5bfe",
   "metadata": {},
   "outputs": [],
   "source": [
    "program = singleHadamardExecution();"
   ]
  },
  {
   "cell_type": "markdown",
   "id": "7a0b332f",
   "metadata": {},
   "source": [
    "The circuit looks like this:"
   ]
  },
  {
   "cell_type": "code",
   "execution_count": null,
   "id": "7a6e7108",
   "metadata": {},
   "outputs": [],
   "source": [
    "drawProgram(program)"
   ]
  },
  {
   "cell_type": "markdown",
   "id": "bd72bdc5",
   "metadata": {},
   "source": [
    "Setting up the same circuit and executing multiple times (**Listing 4.2**) provides some statistical information."
   ]
  },
  {
   "cell_type": "code",
   "execution_count": null,
   "id": "df56f818",
   "metadata": {},
   "outputs": [],
   "source": [
    "function manyHadamardExecution()\n",
    "    simulator = SimpleQuantumExecutionEnvironment()\n",
    "    program = Program(1)\n",
    "    step = Step()\n",
    "    addGate(step, Hadamard(1))\n",
    "    addStep(program, step)\n",
    "    cntZero = 0\n",
    "    cntOne = 0\n",
    "    # Run the circuit 1000 times\n",
    "    for _ = 1:1000\n",
    "        result = runProgram(simulator, program)\n",
    "        qubits = getQubits(result)\n",
    "        zero = qubits[1]\n",
    "        # Measure\n",
    "        value = measure(zero)\n",
    "        # Add to tallies\n",
    "        value == 0 && (cntZero += 1)\n",
    "        value == 1 && (cntOne += 1)\n",
    "    end\n",
    "    println(\"Applied Hadamard circuit 1000 times, got \", cntZero, \" zeros and \", cntOne, \" ones.\")\n",
    "end"
   ]
  },
  {
   "cell_type": "code",
   "execution_count": null,
   "id": "827b0039",
   "metadata": {},
   "outputs": [],
   "source": [
    "manyHadamardExecution()"
   ]
  }
 ],
 "metadata": {
  "kernelspec": {
   "display_name": "Julia 1.9.0-beta2",
   "language": "julia",
   "name": "julia-1.9"
  },
  "language_info": {
   "file_extension": ".jl",
   "mimetype": "application/julia",
   "name": "julia",
   "version": "1.9.0"
  }
 },
 "nbformat": 4,
 "nbformat_minor": 5
}
