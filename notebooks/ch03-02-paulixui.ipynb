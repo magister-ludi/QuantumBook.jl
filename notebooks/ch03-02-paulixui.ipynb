{
 "cells": [
  {
   "cell_type": "markdown",
   "id": "adb4bd19",
   "metadata": {},
   "source": [
    "## 3.6 Visualizing quantum circuits\n",
    "This example shows how to create and visualise a very basic quantum circuit\n",
    "with StrangelyQuantum and StrangelyDisplayed. It consists of a single qubit, and a single gate (the Pauli-X gate) that is applied to that qubit.\n",
    "\n",
    "The circuit is the same as for the [previous example](./ch03-01-paulix.ipynb), but the new function uses StrangelyDisplayed to draw a representation of the circuit."
   ]
  },
  {
   "cell_type": "markdown",
   "id": "f969b096",
   "metadata": {},
   "source": [
    "`ImageShow` is used so that the notebook displays the unscaled image."
   ]
  },
  {
   "cell_type": "code",
   "execution_count": null,
   "id": "6d8f11c2",
   "metadata": {},
   "outputs": [],
   "source": [
    "using ImageShow\n",
    "using StrangelyDisplayed\n",
    "using StrangelyQuantum"
   ]
  },
  {
   "cell_type": "code",
   "execution_count": null,
   "id": "54f48a83",
   "metadata": {},
   "outputs": [],
   "source": [
    "function paulix_img()\n",
    "    # Construct simulation environment\n",
    "    simulator = SimpleQuantumExecutionEnvironment()\n",
    "    # Construct a Program operating on one qubit\n",
    "    program = Program(1)\n",
    "    # Construct and add a step with a Pauli-X gate\n",
    "    step = Step()\n",
    "    addGate(step, X(1))\n",
    "    addStep(program, step)\n",
    "    # Execute the Program\n",
    "    result = runProgram(simulator, program)\n",
    "    # Examine and show the output\n",
    "    qubits = getQubits(result)\n",
    "    q1 = qubits[1]\n",
    "    value = measure(q1)\n",
    "    println(\"Value = \", value)\n",
    "    return program\n",
    "end"
   ]
  },
  {
   "cell_type": "markdown",
   "id": "772ec85b",
   "metadata": {},
   "source": [
    "Call `paulix_img()` to construct and return a `Program`."
   ]
  },
  {
   "cell_type": "code",
   "execution_count": null,
   "id": "a23e3595",
   "metadata": {},
   "outputs": [],
   "source": [
    "program = paulix_img()"
   ]
  },
  {
   "cell_type": "markdown",
   "id": "3789efe2",
   "metadata": {},
   "source": [
    "Call `StrangelyDisplayed.drawProgram` to draw the circuit"
   ]
  },
  {
   "cell_type": "code",
   "execution_count": null,
   "id": "ff2cfda3",
   "metadata": {},
   "outputs": [],
   "source": [
    "drawProgram(program)"
   ]
  },
  {
   "cell_type": "markdown",
   "id": "62ee96eb",
   "metadata": {},
   "source": [
    "The image produced shows the input qubit, the gate that acts on it, and the output value."
   ]
  }
 ],
 "metadata": {
  "kernelspec": {
   "display_name": "Julia 1.9.0-beta2",
   "language": "julia",
   "name": "julia-1.9"
  },
  "language_info": {
   "file_extension": ".jl",
   "mimetype": "application/julia",
   "name": "julia",
   "version": "1.9.0"
  }
 },
 "nbformat": 4,
 "nbformat_minor": 5
}
