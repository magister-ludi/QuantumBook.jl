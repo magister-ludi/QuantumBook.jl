{
 "cells": [
  {
   "cell_type": "markdown",
   "id": "adb4bd19",
   "metadata": {},
   "source": [
    "## 3.6 Visualizing quantum circuits\n",
    "This example shows how to create and visualise a very basic quantum circuit\n",
    "with StrangelyQuantum and StrangelyDisplayed. It consists of a single qubit, and a single gate (the Pauli-X gate) that is applied to that qubit.\n",
    "\n",
    "The circuit is the same as for the [previous example](./ch03-01-paulix.ipynb), but the new function uses StrangelyDisplayed to draw a representation of the circuit."
   ]
  },
  {
   "cell_type": "markdown",
   "id": "f969b096",
   "metadata": {},
   "source": [
    "`ImageShow` is used so that the notebook displays the unscaled image."
   ]
  },
  {
   "cell_type": "code",
   "execution_count": 1,
   "id": "6d8f11c2",
   "metadata": {},
   "outputs": [],
   "source": [
    "using ImageShow\n",
    "using StrangelyDisplayed\n",
    "using StrangelyQuantum"
   ]
  },
  {
   "cell_type": "code",
   "execution_count": 2,
   "id": "54f48a83",
   "metadata": {},
   "outputs": [
    {
     "data": {
      "text/plain": [
       "paulix_img (generic function with 1 method)"
      ]
     },
     "execution_count": 2,
     "metadata": {},
     "output_type": "execute_result"
    }
   ],
   "source": [
    "function paulix_img()\n",
    "    simulator = SimpleQuantumExecutionEnvironment()\n",
    "    program = Program(1)\n",
    "    step = Step()\n",
    "    addGate(step, X(1))\n",
    "    addStep(program, step)\n",
    "    result = runProgram(simulator, program)\n",
    "    qubits = getQubits(result)\n",
    "    qubit_1 = qubits[1]\n",
    "    value = measure(qubit_1)\n",
    "    println(\"Value = \", value)\n",
    "    # Call StrangelyDisplayed.drawProgram to draw the circuit\n",
    "    drawProgram(program)\n",
    "end"
   ]
  },
  {
   "cell_type": "code",
   "execution_count": 3,
   "id": "a23e3595",
   "metadata": {},
   "outputs": [
    {
     "name": "stdout",
     "output_type": "stream",
     "text": [
      "Value = 1\n"
     ]
    },
    {
     "data": {
      "image/png": "[encoded data removed]",
      "text/html": [
       "<img src=\"data:image/png;base64,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\">"
      ],
      "text/plain": [
       "150×300 Array{RGB{N0f8},2} with eltype ColorTypes.RGB{FixedPointNumbers.N0f8}:\n",
       " RGB{N0f8}(1.0,1.0,0.902)  …  RGB{N0f8}(1.0,1.0,0.902)\n",
       " RGB{N0f8}(1.0,1.0,0.902)     RGB{N0f8}(1.0,1.0,0.902)\n",
       " RGB{N0f8}(1.0,1.0,0.902)     RGB{N0f8}(1.0,1.0,0.902)\n",
       " RGB{N0f8}(1.0,1.0,0.902)     RGB{N0f8}(1.0,1.0,0.902)\n",
       " RGB{N0f8}(1.0,1.0,0.902)     RGB{N0f8}(1.0,1.0,0.902)\n",
       " RGB{N0f8}(1.0,1.0,0.902)  …  RGB{N0f8}(1.0,1.0,0.902)\n",
       " RGB{N0f8}(1.0,1.0,0.902)     RGB{N0f8}(1.0,1.0,0.902)\n",
       " RGB{N0f8}(1.0,1.0,0.902)     RGB{N0f8}(1.0,1.0,0.902)\n",
       " RGB{N0f8}(1.0,1.0,0.902)     RGB{N0f8}(1.0,1.0,0.902)\n",
       " RGB{N0f8}(1.0,1.0,0.902)     RGB{N0f8}(1.0,1.0,0.902)\n",
       " RGB{N0f8}(1.0,1.0,0.902)  …  RGB{N0f8}(1.0,1.0,0.902)\n",
       " RGB{N0f8}(1.0,1.0,0.902)     RGB{N0f8}(1.0,1.0,0.902)\n",
       " RGB{N0f8}(1.0,1.0,0.902)     RGB{N0f8}(1.0,1.0,0.902)\n",
       " ⋮                         ⋱  \n",
       " RGB{N0f8}(1.0,1.0,0.902)     RGB{N0f8}(1.0,1.0,0.902)\n",
       " RGB{N0f8}(1.0,1.0,0.902)     RGB{N0f8}(1.0,1.0,0.902)\n",
       " RGB{N0f8}(1.0,1.0,0.902)  …  RGB{N0f8}(1.0,1.0,0.902)\n",
       " RGB{N0f8}(1.0,1.0,0.902)     RGB{N0f8}(1.0,1.0,0.902)\n",
       " RGB{N0f8}(1.0,1.0,0.902)     RGB{N0f8}(1.0,1.0,0.902)\n",
       " RGB{N0f8}(1.0,1.0,0.902)     RGB{N0f8}(1.0,1.0,0.902)\n",
       " RGB{N0f8}(1.0,1.0,0.902)     RGB{N0f8}(1.0,1.0,0.902)\n",
       " RGB{N0f8}(1.0,1.0,0.902)  …  RGB{N0f8}(1.0,1.0,0.902)\n",
       " RGB{N0f8}(1.0,1.0,0.902)     RGB{N0f8}(1.0,1.0,0.902)\n",
       " RGB{N0f8}(1.0,1.0,0.902)     RGB{N0f8}(1.0,1.0,0.902)\n",
       " RGB{N0f8}(1.0,1.0,0.902)     RGB{N0f8}(1.0,1.0,0.902)\n",
       " RGB{N0f8}(1.0,1.0,0.902)     RGB{N0f8}(1.0,1.0,0.902)"
      ]
     },
     "execution_count": 3,
     "metadata": {},
     "output_type": "execute_result"
    }
   ],
   "source": [
    "paulix_img()"
   ]
  },
  {
   "cell_type": "markdown",
   "id": "62ee96eb",
   "metadata": {},
   "source": [
    "The image produced shows the input qubit, the gate that acts on it, and the output value."
   ]
  }
 ],
 "metadata": {
  "kernelspec": {
   "display_name": "Julia 1.9.0-beta2",
   "language": "julia",
   "name": "julia-1.9"
  },
  "language_info": {
   "file_extension": ".jl",
   "mimetype": "application/julia",
   "name": "julia",
   "version": "1.9.0"
  }
 },
 "nbformat": 4,
 "nbformat_minor": 5
}
