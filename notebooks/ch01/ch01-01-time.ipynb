{
 "cells": [
  {
   "cell_type": "markdown",
   "id": "288b9a0a",
   "metadata": {},
   "source": [
    "### 1.1.2 Complexity\n",
    "**Chapter 1** discusses algorithmic complexity and provides estimates of the complexity of factorisation of a $b$-bit number using different algorithms."
   ]
  },
  {
   "cell_type": "markdown",
   "id": "1932cb67",
   "metadata": {},
   "source": [
    "Classical computation to factorise a $b$-bit number requires a time proportional to\n",
    "$$t_C(b)\\approx \\exp((64 / 9)^{(1 / 3)}b \\log^2{b}).$$\n",
    "As a Julia function:"
   ]
  },
  {
   "cell_type": "code",
   "execution_count": null,
   "id": "bf774b6f",
   "metadata": {},
   "outputs": [],
   "source": [
    "classic(b) = exp((64 / 9 * b * log(b)^2)^(1 / 3))"
   ]
  },
  {
   "cell_type": "markdown",
   "id": "6230ac40",
   "metadata": {},
   "source": [
    "Shor's algorithm to factorise a $b$-bit number requires a time proportional to\n",
    "$$t_S(b)\\approx b^3.$$\n",
    "As a Julia function:"
   ]
  },
  {
   "cell_type": "code",
   "execution_count": null,
   "id": "2acc4585",
   "metadata": {},
   "outputs": [],
   "source": [
    "shor(b) = b^3.0"
   ]
  },
  {
   "cell_type": "code",
   "execution_count": null,
   "id": "7ec9613d",
   "metadata": {},
   "outputs": [],
   "source": [
    "using Plots"
   ]
  },
  {
   "cell_type": "markdown",
   "id": "82eefadb",
   "metadata": {},
   "source": [
    "The following method takes an iterable list of functions, and plots them on a single set of axes:"
   ]
  },
  {
   "cell_type": "code",
   "execution_count": null,
   "id": "558c1ada",
   "metadata": {},
   "outputs": [],
   "source": [
    "function plotFunction(functions, xStart, xEnd)\n",
    "    steps = 500\n",
    "    x0 = xStart\n",
    "    x1 = xEnd\n",
    "    step = 1.0 / steps * (x1 - x0)\n",
    "    xs = x0:step:x1\n",
    "    p = plot(;\n",
    "        xlabel = \"number of bits\",\n",
    "        ylabel = \"time required to factor\",\n",
    "        title = \"Time Complexity\",\n",
    "        legend = :topleft,\n",
    "    )\n",
    "    plot!(xs, functions[1]; label = \"classic\")\n",
    "    plot!(xs, functions[2]; label = \"shor\")\n",
    "    return p\n",
    "end"
   ]
  },
  {
   "cell_type": "markdown",
   "id": "3064eafe",
   "metadata": {},
   "source": [
    "Now we can plot the two complexity functions for comparison:"
   ]
  },
  {
   "cell_type": "code",
   "execution_count": null,
   "id": "afb80c5b",
   "metadata": {},
   "outputs": [],
   "source": [
    "function show_times()\n",
    "    functions = (classic, shor)\n",
    "    plotFunction(functions, 0.000001, 20)\n",
    "end"
   ]
  },
  {
   "cell_type": "code",
   "execution_count": null,
   "id": "2aa248ee",
   "metadata": {},
   "outputs": [],
   "source": [
    "show_times()"
   ]
  }
 ],
 "metadata": {
  "kernelspec": {
   "display_name": "Julia 1.9.0-beta2",
   "language": "julia",
   "name": "julia-1.9"
  },
  "language_info": {
   "file_extension": ".jl",
   "mimetype": "application/julia",
   "name": "julia",
   "version": "1.9.0"
  }
 },
 "nbformat": 4,
 "nbformat_minor": 5
}
