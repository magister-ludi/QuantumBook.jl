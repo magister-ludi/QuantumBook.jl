{
 "cells": [
  {
   "cell_type": "markdown",
   "id": "c7966b09",
   "metadata": {},
   "source": [
    "### HelloStrange example\n",
    "This is a *Hello World* example for the `StrangelyQuantum` package.\n",
    "It uses the StrangelyQuantum high-level API to obtain 10000 random bits. This corresponds to **Listing 2.3**."
   ]
  },
  {
   "cell_type": "markdown",
   "id": "52f45bbb",
   "metadata": {},
   "source": [
    "The first step is to access the package:"
   ]
  },
  {
   "cell_type": "code",
   "execution_count": null,
   "id": "983c59fd",
   "metadata": {},
   "outputs": [],
   "source": [
    "using StrangelyQuantum"
   ]
  },
  {
   "cell_type": "markdown",
   "id": "a444817a",
   "metadata": {},
   "source": [
    "The `Classic` module is a submodule of `StrangelyQuantum`\n",
    "The `randomBit()` method uses a quantum algorithm, implemented by the low-level API, to retrieve a random value (either `0` or `1`).\n",
    "\n",
    "Now add a function to call the method:"
   ]
  },
  {
   "cell_type": "code",
   "execution_count": null,
   "id": "b7bdadd7",
   "metadata": {},
   "outputs": [],
   "source": [
    "function hello()\n",
    "    println(\"Using high-level Strange API to generate random bits\")\n",
    "    println(\"----------------------------------------------------\")\n",
    "    # Call the high-level API to generate one random bit\n",
    "    randomBit = Classic.randomBit()\n",
    "    println(\"Generate one random bit, which can be 0 or 1. Result = \", randomBit)\n",
    "    cntZero = 0\n",
    "    cntOne = 0\n",
    "    # Generate 10,000 random bits\n",
    "    for _ = 1:10000\n",
    "        if Classic.randomBit() > 0\n",
    "            cntOne += 1\n",
    "        else\n",
    "            cntZero += 1\n",
    "        end\n",
    "    end\n",
    "    println(\"Generated 10000 random bits, \", cntZero, \" of them were 0, and \", cntOne, \" were 1.\")\n",
    "end"
   ]
  },
  {
   "cell_type": "markdown",
   "id": "e76ce306",
   "metadata": {},
   "source": [
    "Call the function:"
   ]
  },
  {
   "cell_type": "code",
   "execution_count": null,
   "id": "88a1ce85",
   "metadata": {},
   "outputs": [],
   "source": [
    "hello()"
   ]
  }
 ],
 "metadata": {
  "kernelspec": {
   "display_name": "Julia 1.9.0-beta2",
   "language": "julia",
   "name": "julia-1.9"
  },
  "language_info": {
   "file_extension": ".jl",
   "mimetype": "application/julia",
   "name": "julia",
   "version": "1.9.0"
  }
 },
 "nbformat": 4,
 "nbformat_minor": 5
}
