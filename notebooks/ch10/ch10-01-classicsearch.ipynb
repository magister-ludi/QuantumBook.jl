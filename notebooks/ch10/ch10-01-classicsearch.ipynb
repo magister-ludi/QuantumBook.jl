{
 "cells": [
  {
   "cell_type": "markdown",
   "id": "d4333e57",
   "metadata": {},
   "source": [
    "## 10.2 Classical search problems\n",
    "The code in this notebook uses classical linear search."
   ]
  },
  {
   "cell_type": "code",
   "execution_count": null,
   "id": "3c4db69e",
   "metadata": {},
   "outputs": [],
   "source": [
    "using Random"
   ]
  },
  {
   "cell_type": "markdown",
   "id": "5f2e0029",
   "metadata": {},
   "source": [
    "A data structure used in the search algorithms for chapter 10 (**Listing 10.1**):"
   ]
  },
  {
   "cell_type": "code",
   "execution_count": null,
   "id": "e2818095",
   "metadata": {},
   "outputs": [],
   "source": [
    "struct Person\n",
    "    name::String\n",
    "    age::Int\n",
    "    country::String\n",
    "end"
   ]
  },
  {
   "cell_type": "markdown",
   "id": "81ac2aeb",
   "metadata": {},
   "source": [
    "A function to construct a group of `Person` elements (**Listing 10.2**):"
   ]
  },
  {
   "cell_type": "code",
   "execution_count": null,
   "id": "b6696b7d",
   "metadata": {},
   "outputs": [],
   "source": [
    "prepareDatabase() = [\n",
    "    Person(\"Alice\", 42, \"Nigeria\"),\n",
    "    Person(\"Bob\", 36, \"Australia\"),\n",
    "    Person(\"Eve\", 85, \"USA\"),\n",
    "    Person(\"Niels\", 18, \"Greece\"),\n",
    "    Person(\"Albert\", 29, \"Mexico\"),\n",
    "    Person(\"Roger\", 29, \"Belgium\"),\n",
    "    Person(\"Marie\", 15, \"Russia\"),\n",
    "    Person(\"Janice\", 52, \"China\"),\n",
    "]"
   ]
  },
  {
   "cell_type": "markdown",
   "id": "bfa56113",
   "metadata": {},
   "source": [
    "The following function steps through the data and tests each element against the input values"
   ]
  },
  {
   "cell_type": "code",
   "execution_count": null,
   "id": "b72281c7",
   "metadata": {},
   "outputs": [],
   "source": [
    "function findPersonByAgeAndCountry(\n",
    "    persons::AbstractVector{Person},\n",
    "    age::Integer,\n",
    "    country::AbstractString,\n",
    ")\n",
    "    idx = 1\n",
    "    while idx ≤ length(persons)\n",
    "        target = persons[idx]\n",
    "        if target.age == age && target.country == country\n",
    "            println(\"Got result after \", idx, \" tries\")\n",
    "            return persons[idx]\n",
    "        end\n",
    "        idx += 1\n",
    "    end\n",
    "    return nothing\n",
    "end"
   ]
  },
  {
   "cell_type": "markdown",
   "id": "e4f65f6e",
   "metadata": {},
   "source": [
    "Test `findPersonByAgeAndCountry` multiple times"
   ]
  },
  {
   "cell_type": "code",
   "execution_count": null,
   "id": "e41f644f",
   "metadata": {},
   "outputs": [],
   "source": [
    "function complexSearch()\n",
    "    for _ = 1:10\n",
    "        persons = prepareDatabase()\n",
    "        shuffle!(persons)\n",
    "        target = findPersonByAgeAndCountry(persons, 29, \"Mexico\")\n",
    "        println(\"Result of complex search = \", target.name)\n",
    "    end\n",
    "end"
   ]
  },
  {
   "cell_type": "code",
   "execution_count": null,
   "id": "ea894383",
   "metadata": {},
   "outputs": [],
   "source": [
    "complexSearch()"
   ]
  },
  {
   "cell_type": "markdown",
   "id": "fc9f426b",
   "metadata": {},
   "source": [
    "The next function also performs a search. It is passed an argument that is itself a function which should return 1 for an item that matches the search criteria and 0 otherwise. This has the advantage that the search function does not need any information about the data being searched."
   ]
  },
  {
   "cell_type": "code",
   "execution_count": null,
   "id": "6c7a3b7f",
   "metadata": {},
   "outputs": [],
   "source": [
    "function findPersonByFunction(func::Function, persons::AbstractVector{Person})\n",
    "    idx = 1\n",
    "    while idx ≤ length(persons)\n",
    "        target = persons[idx]\n",
    "        if func(target) == 1\n",
    "            println(\"Got result after \", idx, \" tries\")\n",
    "            return persons[idx]\n",
    "        end\n",
    "        idx += 1\n",
    "    end\n",
    "    return nothing\n",
    "end"
   ]
  },
  {
   "cell_type": "markdown",
   "id": "f6002960",
   "metadata": {},
   "source": [
    "Run the new search function:"
   ]
  },
  {
   "cell_type": "code",
   "execution_count": null,
   "id": "70ecd3f5",
   "metadata": {},
   "outputs": [],
   "source": [
    "function functionSearch()\n",
    "    # Prepare a function that returns 1 if the argument matches\n",
    "    # the search criteria, 0 otherwise (Listing 10.3):\n",
    "    f29Mexico = p -> p.age == 29 && p.country == \"Mexico\" ? 1 : 0\n",
    "    for _ = 1:10\n",
    "        persons = prepareDatabase()\n",
    "        shuffle!(persons)\n",
    "        target = findPersonByFunction(f29Mexico, persons)\n",
    "        println(\"Result of function Search = \", target.name)\n",
    "    end\n",
    "end"
   ]
  },
  {
   "cell_type": "code",
   "execution_count": null,
   "id": "873a26b0",
   "metadata": {},
   "outputs": [],
   "source": [
    "functionSearch()"
   ]
  },
  {
   "cell_type": "markdown",
   "id": "dc37acbb",
   "metadata": {},
   "source": [
    "**Note:** `functionSearch` is the equivalent of the Julia function `findfirst`"
   ]
  },
  {
   "cell_type": "code",
   "execution_count": null,
   "id": "fc434b3a",
   "metadata": {},
   "outputs": [],
   "source": [
    "?findfirst"
   ]
  }
 ],
 "metadata": {
  "kernelspec": {
   "display_name": "Julia 1.9.0-beta2",
   "language": "julia",
   "name": "julia-1.9"
  },
  "language_info": {
   "file_extension": ".jl",
   "mimetype": "application/julia",
   "name": "julia",
   "version": "1.9.0"
  }
 },
 "nbformat": 4,
 "nbformat_minor": 5
}
