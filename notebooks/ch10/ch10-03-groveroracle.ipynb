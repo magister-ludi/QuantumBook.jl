{
 "cells": [
  {
   "cell_type": "markdown",
   "id": "8c9d2aa0",
   "metadata": {},
   "source": [
    "### 10.5.3 Quantum oracle\n",
    "This example demonstrates the construction of an oracle for Grover's algorithm."
   ]
  },
  {
   "cell_type": "code",
   "execution_count": null,
   "id": "c2dda522",
   "metadata": {},
   "outputs": [],
   "source": [
    "using ImageShow\n",
    "using StrangelyDisplayed\n",
    "using StrangelyQuantum"
   ]
  },
  {
   "cell_type": "markdown",
   "id": "1d4d6bc2",
   "metadata": {},
   "source": [
    "If we have a list with four elements, we require two qubits ($2^2 = 4$). If the element that we hope to find has index 3, **section 10.5.3** explains that the following function constructs the appropriate oracle:"
   ]
  },
  {
   "cell_type": "code",
   "execution_count": null,
   "id": "1bb47a91",
   "metadata": {},
   "outputs": [],
   "source": [
    "function createOracle()\n",
    "    matrix = zeros(ComplexF64, 4, 4)\n",
    "\n",
    "    matrix[1, 1] = 1\n",
    "    matrix[2, 2] = 1\n",
    "    matrix[3, 3] = -1\n",
    "    matrix[4, 4] = 1\n",
    "\n",
    "    return Oracle(matrix)\n",
    "end"
   ]
  },
  {
   "cell_type": "code",
   "execution_count": null,
   "id": "cdfbdcbc",
   "metadata": {},
   "outputs": [],
   "source": [
    "function testOracle(w)\n",
    "    simulator = SimpleQuantumExecutionEnvironment()\n",
    "    program = Program(2)\n",
    "\n",
    "    w -= 1\n",
    "    prepareStep = Step()\n",
    "    ((w >> 0) & 1) == 1 && addGate(prepareStep, X(1))\n",
    "    ((w >> 1) & 1) == 1 && addGate(prepareStep, X(2))\n",
    "    addStep(program, prepareStep)\n",
    "\n",
    "    oracleStep = Step()\n",
    "    oracle = createOracle()\n",
    "    addGate(oracleStep, oracle)\n",
    "    addStep(program, oracleStep)\n",
    "\n",
    "    probStep = Step();\n",
    "    addGate(probStep, ProbabilitiesGate(1));\n",
    "    addStep(program, probStep);\n",
    "\n",
    "    result = runProgram(simulator, program)\n",
    "    qubits = getQubits(result)\n",
    "\n",
    "    println(\"input: \", lpad(string(w, base = 2), 2, \"0\"),\n",
    "            \", measured = |\", measure(qubits[1]), measure(qubits[2]), \">\")\n",
    "    return program\n",
    "end"
   ]
  },
  {
   "cell_type": "code",
   "execution_count": null,
   "id": "daac52bf",
   "metadata": {
    "scrolled": true
   },
   "outputs": [],
   "source": [
    "program1 = testOracle(1)"
   ]
  },
  {
   "cell_type": "code",
   "execution_count": null,
   "id": "7712f677",
   "metadata": {},
   "outputs": [],
   "source": [
    "drawProgram(program1)"
   ]
  },
  {
   "cell_type": "code",
   "execution_count": null,
   "id": "e612f97c",
   "metadata": {},
   "outputs": [],
   "source": [
    "program2 = testOracle(2)"
   ]
  },
  {
   "cell_type": "code",
   "execution_count": null,
   "id": "c34c96a2",
   "metadata": {},
   "outputs": [],
   "source": [
    "drawProgram(program2)"
   ]
  },
  {
   "cell_type": "code",
   "execution_count": null,
   "id": "74318cac",
   "metadata": {},
   "outputs": [],
   "source": [
    "program3 = testOracle(3)"
   ]
  },
  {
   "cell_type": "code",
   "execution_count": null,
   "id": "4d45ef7f",
   "metadata": {},
   "outputs": [],
   "source": [
    "drawProgram(program3)"
   ]
  },
  {
   "cell_type": "code",
   "execution_count": null,
   "id": "dbeb4c6f",
   "metadata": {},
   "outputs": [],
   "source": [
    "program4 = testOracle(4)"
   ]
  },
  {
   "cell_type": "code",
   "execution_count": null,
   "id": "61c77aaf",
   "metadata": {},
   "outputs": [],
   "source": [
    "drawProgram(program4)"
   ]
  }
 ],
 "metadata": {
  "kernelspec": {
   "display_name": "Julia 1.9.0-beta2",
   "language": "julia",
   "name": "julia-1.9"
  },
  "language_info": {
   "file_extension": ".jl",
   "mimetype": "application/julia",
   "name": "julia",
   "version": "1.9.0"
  }
 },
 "nbformat": 4,
 "nbformat_minor": 5
}
