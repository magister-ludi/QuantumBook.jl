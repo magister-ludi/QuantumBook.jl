{
 "cells": [
  {
   "cell_type": "markdown",
   "id": "1c4e1c47",
   "metadata": {},
   "source": [
    "## 10.3 Quantum search: Using Grover’s search algorithm\n",
    "The function `Classic.search` in package `StrangelyQuantum` uses [Grover`s algorithm](https://en.wikipedia.org/wiki/Grover%27s_algorithm) to perform a search. Here is a simple test:"
   ]
  },
  {
   "cell_type": "code",
   "execution_count": null,
   "id": "3acb1bd5",
   "metadata": {},
   "outputs": [],
   "source": [
    "using Random\n",
    "using StrangelyQuantum"
   ]
  },
  {
   "cell_type": "markdown",
   "id": "9a32a736",
   "metadata": {},
   "source": [
    "The datastructure used in this chapter:"
   ]
  },
  {
   "cell_type": "code",
   "execution_count": null,
   "id": "ad6fc4d2",
   "metadata": {},
   "outputs": [],
   "source": [
    "struct Person\n",
    "    name::String\n",
    "    age::Int\n",
    "    country::String\n",
    "end"
   ]
  },
  {
   "cell_type": "markdown",
   "id": "8e11b46a",
   "metadata": {},
   "source": [
    "The data used in this chapter:"
   ]
  },
  {
   "cell_type": "code",
   "execution_count": null,
   "id": "302879ed",
   "metadata": {},
   "outputs": [],
   "source": [
    "prepareDatabase() = [\n",
    "    Person(\"Alice\", 42, \"Nigeria\"),\n",
    "    Person(\"Bob\", 36, \"Australia\"),\n",
    "    Person(\"Eve\", 85, \"USA\"),\n",
    "    Person(\"Niels\", 18, \"Greece\"),\n",
    "    Person(\"Albert\", 29, \"Mexico\"),\n",
    "    Person(\"Roger\", 29, \"Belgium\"),\n",
    "    Person(\"Marie\", 15, \"Russia\"),\n",
    "    Person(\"Janice\", 52, \"China\"),\n",
    "]"
   ]
  },
  {
   "cell_type": "markdown",
   "id": "d68fbf29",
   "metadata": {},
   "source": [
    "A driver for `Classic.search()`. `search()` runs without printing anything, so the notebooks that follow ([(a)](ch10-03-groveroracle.ipynb), [(b)](ch10-04-stepbystepgrover.ipynb), ([(c)](ch10-05-grover.ipynb)) examine the algorithm itself."
   ]
  },
  {
   "cell_type": "code",
   "execution_count": null,
   "id": "59cd9125",
   "metadata": {},
   "outputs": [],
   "source": [
    "function quantumSearch()\n",
    "    for _ = 1:10\n",
    "        persons = prepareDatabase()\n",
    "        shuffle!(persons)\n",
    "        target = Classic.search(persons) do p\n",
    "            p.age == 29 && p.country == \"Mexico\" ? 1 : 0\n",
    "        end\n",
    "        println(\"Result of function search = \", target.name)\n",
    "    end\n",
    "end"
   ]
  },
  {
   "cell_type": "code",
   "execution_count": null,
   "id": "525f0dba",
   "metadata": {},
   "outputs": [],
   "source": [
    "quantumSearch()"
   ]
  }
 ],
 "metadata": {
  "kernelspec": {
   "display_name": "Julia 1.9.0-beta2",
   "language": "julia",
   "name": "julia-1.9"
  },
  "language_info": {
   "file_extension": ".jl",
   "mimetype": "application/julia",
   "name": "julia",
   "version": "1.9.0"
  }
 },
 "nbformat": 4,
 "nbformat_minor": 5
}
