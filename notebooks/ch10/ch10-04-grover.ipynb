{
 "cells": [
  {
   "cell_type": "markdown",
   "id": "50c20b0b",
   "metadata": {},
   "source": [
    "## 10.5 The algorithm behind Grover’s search\n",
    "This example, provides some more detail about Grover's algorithm. It shows the quantum circuit for Grover's algorithm, together with the probability vector. This vector gradually moves towards a vector where a single element is getting closer to 100%."
   ]
  },
  {
   "cell_type": "code",
   "execution_count": null,
   "id": "99c51a92",
   "metadata": {},
   "outputs": [],
   "source": [
    "using ImageShow\n",
    "using LinearAlgebra\n",
    "using StrangelyDisplayed\n",
    "using StrangelyQuantum"
   ]
  },
  {
   "cell_type": "markdown",
   "id": "5e232897",
   "metadata": {},
   "source": [
    "Th function below is similar to the code used by `Classic.search` in `StrangelyQuantum`, but with the length of the array and the index of the search item explicitly provided."
   ]
  },
  {
   "cell_type": "code",
   "execution_count": null,
   "id": "2de36198",
   "metadata": {},
   "outputs": [],
   "source": [
    "function doGrover(dim, solution)\n",
    "    sqee = SimpleQuantumExecutionEnvironment()\n",
    "    nn = 1 << dim\n",
    "    cnt = π * sqrt(nn) / 4\n",
    "    p = Program(dim)\n",
    "    s0 = Step()\n",
    "    for i = 1:dim\n",
    "        addGate(s0, Hadamard(i))\n",
    "    end\n",
    "    addStep(p, s0)\n",
    "    oracle = createOracle(dim, solution)\n",
    "    setCaption(oracle, \"O\")\n",
    "    dif = createDiffMatrix(dim)\n",
    "    difOracle = Oracle(dif)\n",
    "    setCaption(difOracle, \"D\")\n",
    "    i = 1\n",
    "    while i < cnt\n",
    "        s0prob = Step(\"Prob $i\")\n",
    "        addGate(s0prob, ProbabilitiesGate(1))\n",
    "        s1 = Step(\"Oracle $i\")\n",
    "        addGate(s1, oracle)\n",
    "        s1prob = Step(\"Prob $i\")\n",
    "        addGate(s1prob, ProbabilitiesGate(1))\n",
    "        s2 = Step(\"Diffusion $i\")\n",
    "        addGate(s2, difOracle)\n",
    "        s3 = Step(\"Prob $i\")\n",
    "        addGate(s3, ProbabilitiesGate(1))\n",
    "        addStep(p, s0prob)\n",
    "        addStep(p, s1)\n",
    "        addStep(p, s1prob)\n",
    "        addStep(p, s2)\n",
    "        addStep(p, s3)\n",
    "        i += 1\n",
    "    end\n",
    "    println(\" n = \", dim, \", steps = \", cnt)\n",
    "\n",
    "    res = runProgram(sqee, p)\n",
    "    i = 1\n",
    "    while i < cnt\n",
    "        ip0 = getIntermediateProbability(res, 3 * i + 1)\n",
    "        println(\"results after step \", i, \": \", sum(abs2, ip0[solution]))\n",
    "        i += 1\n",
    "    end\n",
    "    println(\"\\n\")\n",
    "    return p\n",
    "end"
   ]
  },
  {
   "cell_type": "markdown",
   "id": "5208de11",
   "metadata": {},
   "source": [
    "The following function constructs the *diffusion matrix* whicis used to amplify the probability of the qubit with the desired index. Some of the theory is described [here](https://www.cs.cmu.edu/~odonnell/quantum15/lecture04.pdf)."
   ]
  },
  {
   "cell_type": "code",
   "execution_count": null,
   "id": "15bf6ea9",
   "metadata": {},
   "outputs": [],
   "source": [
    "function createDiffMatrix(dim)\n",
    "    nn = 1 << dim\n",
    "    g = Hadamard(1)\n",
    "    h2 = g.matrix\n",
    "    for i = 2:dim\n",
    "        h2 = kron(h2, g.matrix)\n",
    "    end\n",
    "    I2 = Matrix{ComplexF64}(I, nn, nn)\n",
    "    I2[1, 1] = -1\n",
    "    nd = dim << 1\n",
    "\n",
    "    inter1 = h2 * I2\n",
    "    dif = inter1 * h2\n",
    "    return dif\n",
    "end"
   ]
  },
  {
   "cell_type": "markdown",
   "id": "3dae3392",
   "metadata": {},
   "source": [
    "The following function creates the oracle for the algorithm:"
   ]
  },
  {
   "cell_type": "code",
   "execution_count": null,
   "id": "7c96b349",
   "metadata": {},
   "outputs": [],
   "source": [
    "function createOracle(dim, solution)\n",
    "    nn = 1 << dim\n",
    "    println(\"dim = \", dim, \" hence N = \", nn)\n",
    "    matrix = Matrix{ComplexF64}(I, nn, nn)\n",
    "    matrix[solution, solution] = -1\n",
    "    return Oracle(matrix)\n",
    "end"
   ]
  },
  {
   "cell_type": "markdown",
   "id": "db97352f",
   "metadata": {},
   "source": [
    "A simple case with 2 qubits, matching the third index:"
   ]
  },
  {
   "cell_type": "code",
   "execution_count": null,
   "id": "818ba70e",
   "metadata": {},
   "outputs": [],
   "source": [
    "p_2_3 = doGrover(2, 3)"
   ]
  },
  {
   "cell_type": "code",
   "execution_count": null,
   "id": "8d2ddc27",
   "metadata": {},
   "outputs": [],
   "source": [
    "drawProgram(p_2_3)"
   ]
  },
  {
   "cell_type": "markdown",
   "id": "e4ea3604",
   "metadata": {},
   "source": [
    "The output index is 1 greater than the binary number represented by the qubits:\n",
    "$$ 10_b + 1 \\rightarrow 0\\times 2^0 + 1\\times 2^1 + 1 = 3$$\n",
    "\n",
    "A slightly more realistic example, with 6 qubits (corresponding to data length $64=2^6$) and an index of 11:"
   ]
  },
  {
   "cell_type": "code",
   "execution_count": null,
   "id": "40adc1a7",
   "metadata": {},
   "outputs": [],
   "source": [
    "p_6_11 = doGrover(6, 11)"
   ]
  },
  {
   "cell_type": "code",
   "execution_count": null,
   "id": "de04ee12",
   "metadata": {},
   "outputs": [],
   "source": [
    "drawProgram(p_6_11)"
   ]
  },
  {
   "cell_type": "markdown",
   "id": "84901c5d",
   "metadata": {},
   "source": [
    "Once again, the output index is 1 greater than the binary number represented by the qubits:\n",
    "$$001010_b + 1 \\rightarrow 0\\times 2^0 + 1\\times 2^1 + 0\\times 2^2 + 1\\times 2^3 + 0\\times 2^4 + 0\\times 2^5 + 1 = 11$$"
   ]
  }
 ],
 "metadata": {
  "kernelspec": {
   "display_name": "Julia 1.9.0-beta2",
   "language": "julia",
   "name": "julia-1.9"
  },
  "language_info": {
   "file_extension": ".jl",
   "mimetype": "application/julia",
   "name": "julia",
   "version": "1.9.0"
  }
 },
 "nbformat": 4,
 "nbformat_minor": 5
}
