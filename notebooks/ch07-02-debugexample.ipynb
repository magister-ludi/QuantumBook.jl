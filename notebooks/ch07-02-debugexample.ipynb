{
 "cells": [
  {
   "cell_type": "markdown",
   "id": "dfb58023",
   "metadata": {},
   "source": [
    "### 7.5.2 Debugging Strange code\n",
    "This example constructs the same quantum circuit as in the [earlier example](ch07-01-example.ipynb), but adds \"probability gates\" that display imtermediate probabilities that can help with debugging."
   ]
  },
  {
   "cell_type": "code",
   "execution_count": null,
   "id": "0ae27709",
   "metadata": {},
   "outputs": [],
   "source": [
    "using ImageShow\n",
    "using StrangelyDisplayed\n",
    "using StrangelyQuantum"
   ]
  },
  {
   "cell_type": "markdown",
   "id": "3569b68e",
   "metadata": {},
   "source": [
    "The code presented in **Section 7.5.2** is provided in the next cell. The differences between that code and the code in **Section 7.5.1** are noted:"
   ]
  },
  {
   "cell_type": "code",
   "execution_count": null,
   "id": "c4f714ca",
   "metadata": {},
   "outputs": [],
   "source": [
    "function debug_example()\n",
    "    dim = 4\n",
    "    program = Program(dim)\n",
    "    # p0, p1 and p2 are ProbabilitiesGate items that do not\n",
    "    # affect the circuit, but provide a visual debugging aid\n",
    "    p0 = Step(ProbabilitiesGate(1))\n",
    "    step0 = Step(Hadamard(1), X(4))\n",
    "    p1 = Step(ProbabilitiesGate(1))\n",
    "    step1 = Step(Cnot(1, 2))\n",
    "    p2 = Step(ProbabilitiesGate(1))\n",
    "\n",
    "    addSteps(program, p0, step0, p1, step1, p2)\n",
    "\n",
    "    qee = SimpleQuantumExecutionEnvironment()\n",
    "    result = runProgram(qee, program)\n",
    "    qubits = getQubits(result)\n",
    "    for i in eachindex(qubits)\n",
    "        println(\"Qubit[\", i, \"]: \", measure(qubits[i]))\n",
    "    end\n",
    "    return program\n",
    "end"
   ]
  },
  {
   "cell_type": "markdown",
   "id": "58d6cc9b",
   "metadata": {},
   "source": [
    "Once again, the printed output is either\n",
    "```\n",
    "Qubit[1]: 1\n",
    "Qubit[2]: 1\n",
    "Qubit[3]: 0\n",
    "Qubit[4]: 1\n",
    "```\n",
    "or\n",
    "```\n",
    "Qubit[1]: 0\n",
    "Qubit[2]: 0\n",
    "Qubit[3]: 0\n",
    "Qubit[4]: 1\n",
    "```"
   ]
  },
  {
   "cell_type": "code",
   "execution_count": null,
   "id": "71332d26",
   "metadata": {},
   "outputs": [],
   "source": [
    "program = debug_example()"
   ]
  },
  {
   "cell_type": "code",
   "execution_count": null,
   "id": "14eadc79",
   "metadata": {
    "scrolled": true
   },
   "outputs": [],
   "source": [
    "drawProgram(program)"
   ]
  },
  {
   "cell_type": "markdown",
   "id": "21ee1311",
   "metadata": {},
   "source": [
    "Because there are 4 qubits, there are $2^4\\equiv16$ possible values at any point in the process. The probability vector is visualized as a rectangle divided into 16 parts. The first part represents the probability of measuring 0000 if a measurement was done at this point. The second part corresponds to the probability of measuring 0001, and so on.\n",
    "\n",
    "1. At the start, the probability is 1 that 0000 would be measured.\n",
    "2. After the first step, each of the ninth and tenth rectangles are half-filled, meaning that there is a 50% chance that one of 0100 or 0101 would be measured.\n",
    "3. Finally, the ninth and twelfth rectangles are half-filled, meaning that there is a 50% chance that one of 1000 or 1011 would be measured, corresponding to the patterns described above.\n",
    "\n",
    "This is confirmed by examining the sample histogram of the program:"
   ]
  },
  {
   "cell_type": "code",
   "execution_count": null,
   "id": "f14a4e32",
   "metadata": {},
   "outputs": [],
   "source": [
    "drawTrialHistogram(program, 1000)"
   ]
  }
 ],
 "metadata": {
  "kernelspec": {
   "display_name": "Julia 1.9.0-beta2",
   "language": "julia",
   "name": "julia-1.9"
  },
  "language_info": {
   "file_extension": ".jl",
   "mimetype": "application/julia",
   "name": "julia",
   "version": "1.9.0"
  }
 },
 "nbformat": 4,
 "nbformat_minor": 5
}
