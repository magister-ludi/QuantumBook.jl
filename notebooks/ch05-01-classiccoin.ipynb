{
 "cells": [
  {
   "cell_type": "markdown",
   "id": "41685360",
   "metadata": {},
   "source": [
    "## 5.2 Independent probabilities: The classic way\n",
    "This example shows the possible combination when tossing\n",
    "two classic coins. There are no quantum effects, and\n",
    "the coins are independent from each other."
   ]
  },
  {
   "cell_type": "code",
   "execution_count": null,
   "id": "4fd6b545",
   "metadata": {},
   "outputs": [],
   "source": [
    "using ImageShow\n",
    "using Random\n",
    "using StrangelyDisplayed"
   ]
  },
  {
   "cell_type": "markdown",
   "id": "a42255e8",
   "metadata": {},
   "source": [
    "This function uses a random number generator to simulate a coin toss by returning a random boolean value."
   ]
  },
  {
   "cell_type": "code",
   "execution_count": null,
   "id": "f2d0ed76",
   "metadata": {},
   "outputs": [],
   "source": [
    "randomBit(random::AbstractRNG) = rand(random, Bool)"
   ]
  },
  {
   "cell_type": "markdown",
   "id": "85bdaf06",
   "metadata": {},
   "source": [
    "This function uses a random number generator to simulate two independent coin tosses, by calculating the probability vector for two coins that can be heads or tails. This is **Listing 5.1**."
   ]
  },
  {
   "cell_type": "code",
   "execution_count": null,
   "id": "8855915d",
   "metadata": {},
   "outputs": [],
   "source": [
    "function calculate_twocoins(random::AbstractRNG, count)\n",
    "    results = zeros(Int, 4)\n",
    "    for _ = 1:count\n",
    "        # Create two random bits, which can be true or false,\n",
    "        # independently of the other\n",
    "        coinA = randomBit(random)\n",
    "        coinB = randomBit(random)\n",
    "        # Based on the values of the two bits, increment one\n",
    "        # element in the probability vector\n",
    "        !coinA && !coinB && (results[1] += 1)\n",
    "        !coinA && coinB && (results[2] += 1)\n",
    "        coinA && !coinB && (results[3] += 1)\n",
    "        coinA && coinB && (results[4] += 1)\n",
    "    end\n",
    "    return results\n",
    "end"
   ]
  },
  {
   "cell_type": "markdown",
   "id": "68543979",
   "metadata": {},
   "source": [
    "The following method collects the vaues collected in `calculate_twocoins()`, prints them and returns a histogram of the counts."
   ]
  },
  {
   "cell_type": "code",
   "execution_count": null,
   "id": "85583719",
   "metadata": {},
   "outputs": [],
   "source": [
    "function two_coins()\n",
    "    random = Xoshiro()\n",
    "    count = 1000\n",
    "    results = calculate_twocoins(random, count)\n",
    "    println(\"=================================\")\n",
    "    println(\"We did \", count, \" experiments.\")\n",
    "    println(\"0 0 occurred \", results[1], \" times.\")\n",
    "    println(\"0 1 occurred \", results[2], \" times.\")\n",
    "    println(\"1 0 occurred \", results[3], \" times.\")\n",
    "    println(\"1 1 occurred \", results[4], \" times.\")\n",
    "    println(\"=================================\")\n",
    "    drawHistogram(results;\n",
    "                  xlabels = lpad.(string.((0,1,2,3), base = 2), 2, \"0\"))\n",
    "end"
   ]
  },
  {
   "cell_type": "code",
   "execution_count": null,
   "id": "781f0690",
   "metadata": {},
   "outputs": [],
   "source": [
    "two_coins()"
   ]
  },
  {
   "cell_type": "markdown",
   "id": "5de1b264",
   "metadata": {},
   "source": [
    "The first digit of the labels on the $x$-axis represents the *second* coin, the second digit represents the *first* coin."
   ]
  }
 ],
 "metadata": {
  "kernelspec": {
   "display_name": "Julia 1.9.0-beta2",
   "language": "julia",
   "name": "julia-1.9"
  },
  "language_info": {
   "file_extension": ".jl",
   "mimetype": "application/julia",
   "name": "julia",
   "version": "1.9.0"
  }
 },
 "nbformat": 4,
 "nbformat_minor": 5
}
