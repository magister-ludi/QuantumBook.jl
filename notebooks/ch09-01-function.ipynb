{
 "cells": [
  {
   "cell_type": "markdown",
   "id": "d839b251",
   "metadata": {},
   "source": [
    "### 9.2.1 Constant and balanced functions\n",
    "This code looks at the difference between constant and balanced functions. Functions that take a boolean argument and have a boolean result can be divided into two groups:\n",
    " - A constant function produces the same result for all arguments;\n",
    " - A balanced function produces a different result for different aguments."
   ]
  },
  {
   "cell_type": "code",
   "execution_count": null,
   "id": "229d6c9d",
   "metadata": {},
   "outputs": [],
   "source": [
    "using Random"
   ]
  },
  {
   "cell_type": "markdown",
   "id": "9c6b86b2",
   "metadata": {},
   "source": [
    "We define four functions. By inspection we can see that `f1` and `f4` are constant functions, `f2` and `f3` are balanced functions:"
   ]
  },
  {
   "cell_type": "code",
   "execution_count": null,
   "id": "a4657043",
   "metadata": {},
   "outputs": [],
   "source": [
    "f1(t) = false\n",
    "f2(t) = t == false ? false : true\n",
    "f3(t) = t == false ? true : false\n",
    "f4(t) = true"
   ]
  },
  {
   "cell_type": "markdown",
   "id": "7ef37368",
   "metadata": {},
   "source": [
    "The following function selects the functions at random, and examines the return values for different arguments. It then prints whether the function is constant or balanced."
   ]
  },
  {
   "cell_type": "code",
   "execution_count": null,
   "id": "ec502e63",
   "metadata": {},
   "outputs": [],
   "source": [
    "function function_test()\n",
    "    functions = [f1, f2, f3, f4]\n",
    "    random = Xoshiro()\n",
    "    for i = 1:10\n",
    "        rnd = rand(random, 1:4)\n",
    "        f = functions[rnd]\n",
    "        y0 = f(false)\n",
    "        y1 = f(true)\n",
    "        println(\"f\", rnd, \" is a \", y0 == y1 ? \"constant\" : \"balanced\", \" function\")\n",
    "    end\n",
    "end"
   ]
  },
  {
   "cell_type": "code",
   "execution_count": null,
   "id": "b1b5a481",
   "metadata": {},
   "outputs": [],
   "source": [
    "function_test()"
   ]
  },
  {
   "cell_type": "markdown",
   "id": "542e46c7",
   "metadata": {},
   "source": [
    "Note that a function must be called *twice* to determine whether it's constant or balanced."
   ]
  }
 ],
 "metadata": {
  "kernelspec": {
   "display_name": "Julia 1.9.0-beta2",
   "language": "julia",
   "name": "julia-1.9"
  },
  "language_info": {
   "file_extension": ".jl",
   "mimetype": "application/julia",
   "name": "julia",
   "version": "1.9.0"
  }
 },
 "nbformat": 4,
 "nbformat_minor": 5
}
