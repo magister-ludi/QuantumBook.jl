{
 "cells": [
  {
   "cell_type": "markdown",
   "id": "29218d70",
   "metadata": {},
   "source": [
    "## 9.7 Deutsch-Jozsa algorithm\n",
    "A demonstration of the [Deutsch-Jozsa algorithm](https://en.wikipedia.org/wiki/Deutsch%E2%80%93Jozsa_algorithm)."
   ]
  },
  {
   "cell_type": "code",
   "execution_count": null,
   "id": "e530e80f",
   "metadata": {},
   "outputs": [],
   "source": [
    "using ImageShow\n",
    "using StrangelyDisplayed\n",
    "using StrangelyQuantum"
   ]
  },
  {
   "cell_type": "markdown",
   "id": "86063229",
   "metadata": {},
   "source": [
    "The following function creates an oracle acting on `n+1` bits. The argument `f` chooses an oracle matrix:\n",
    "\n",
    "- if `f` is **false**, the oracle uses an identity matrix. This corresponds to a constant function.\n",
    "- if `f` is **true**, the oracle uses a matrix that swaps the ancilla qubit when the last input qubit is 1. This corresponds to a balanced function."
   ]
  },
  {
   "cell_type": "code",
   "execution_count": null,
   "id": "a57326ef",
   "metadata": {},
   "outputs": [],
   "source": [
    "function createOracle(n::Integer, f::Bool)\n",
    "    dim = 2 << n\n",
    "    half = dim ÷ 2\n",
    "\n",
    "    matrix = zeros(ComplexF64, dim, dim)\n",
    "\n",
    "    if !f\n",
    "        for i = 1:dim\n",
    "            matrix[i, i] = 1\n",
    "        end\n",
    "        return Oracle(matrix)\n",
    "    elseif f\n",
    "        for i = 1:dim\n",
    "            if isodd(i)\n",
    "                matrix[i, i] = 1\n",
    "            else\n",
    "                if i <= half\n",
    "                    matrix[i, i + half] = 1\n",
    "                else\n",
    "                    matrix[i, i - half] = 1\n",
    "                end\n",
    "            end\n",
    "        end\n",
    "        return Oracle(matrix)\n",
    "    end\n",
    "end"
   ]
  },
  {
   "cell_type": "markdown",
   "id": "a369d37e",
   "metadata": {},
   "source": [
    "The next cell contains a function that tests the functions created by `createOracle` for `n` qubits. This is a generalisation of the `n == 1` case provided [earlier](ch09-05-deutsch.ipynb)."
   ]
  },
  {
   "cell_type": "code",
   "execution_count": null,
   "id": "15b8955b",
   "metadata": {},
   "outputs": [],
   "source": [
    "function deutsch_josza(n, choice)\n",
    "    simulator = SimpleQuantumExecutionEnvironment()\n",
    "    # Create a program with N + 1 qubits. We need N qubits\n",
    "    # for the input bits and an additional ancilla qubit.\n",
    "    program = Program(n + 1)\n",
    "    step0 = Step()\n",
    "    # Apply a Pauli-X gate to the ancilla qubit\n",
    "    addGate(step0, X(n + 1))\n",
    "\n",
    "    step1 = Step()\n",
    "    # Apply a Hadamard gate to all qubits, bringing\n",
    "    # them into superposition\n",
    "    for j = 1:(n + 1)\n",
    "        addGate(step1, Hadamard(j))\n",
    "    end\n",
    "\n",
    "    step2 = Step()\n",
    "    # Fetch and apply an oracle to the circuit\n",
    "    oracle = createOracle(n, choice)\n",
    "    addGate(step2, oracle)\n",
    "\n",
    "    step3 = Step()\n",
    "    # Apply a Hadamard gate to all input qubits (not\n",
    "    # to the ancilla qubit)\n",
    "    for j = 1:n\n",
    "        addGate(step3, Hadamard(j))\n",
    "    end\n",
    "\n",
    "    addStep(program, step0)\n",
    "    addStep(program, step1)\n",
    "    addStep(program, step2)\n",
    "    addStep(program, step3)\n",
    "    # Execute the program and measure the first qubit\n",
    "    result = runProgram(simulator, program)\n",
    "    qubits = getQubits(result)\n",
    "    println(\"f = \", choice, \", val = \", measure(qubits[1]))\n",
    "    return program\n",
    "end"
   ]
  },
  {
   "cell_type": "markdown",
   "id": "03b0ad45",
   "metadata": {},
   "source": [
    "Test the algorithm for 3 qubits and a constant function:"
   ]
  },
  {
   "cell_type": "code",
   "execution_count": null,
   "id": "15c6b7f2",
   "metadata": {},
   "outputs": [],
   "source": [
    "program1 = deutsch_josza(3, false)"
   ]
  },
  {
   "cell_type": "code",
   "execution_count": null,
   "id": "b92f9aa3",
   "metadata": {
    "scrolled": true
   },
   "outputs": [],
   "source": [
    "drawProgram(program1)"
   ]
  },
  {
   "cell_type": "markdown",
   "id": "6586f27c",
   "metadata": {},
   "source": [
    "The measured value of the first qubit is 0, so the oracle applies a **constant** function.\n",
    "\n",
    "Test the algorithm for 3 qubits and a balanced function:"
   ]
  },
  {
   "cell_type": "code",
   "execution_count": null,
   "id": "c9e4b059",
   "metadata": {},
   "outputs": [],
   "source": [
    "program2 = deutsch_josza(3, true)"
   ]
  },
  {
   "cell_type": "code",
   "execution_count": null,
   "id": "89838587",
   "metadata": {
    "scrolled": true
   },
   "outputs": [],
   "source": [
    "drawProgram(program2)"
   ]
  },
  {
   "cell_type": "markdown",
   "id": "ce9cace7",
   "metadata": {},
   "source": [
    "The measured value of the first qubit is 1, so the oracle applies a **balanced** function."
   ]
  }
 ],
 "metadata": {
  "kernelspec": {
   "display_name": "Julia 1.9.0-beta2",
   "language": "julia",
   "name": "julia-1.9"
  },
  "language_info": {
   "file_extension": ".jl",
   "mimetype": "application/julia",
   "name": "julia",
   "version": "1.9.0"
  }
 },
 "nbformat": 4,
 "nbformat_minor": 5
}
