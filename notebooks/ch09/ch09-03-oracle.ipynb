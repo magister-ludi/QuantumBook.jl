{
 "cells": [
  {
   "cell_type": "markdown",
   "id": "a61171e9",
   "metadata": {},
   "source": [
    "## 9.4 Defining an oracle\n",
    "An example showing a quantum oracle."
   ]
  },
  {
   "cell_type": "code",
   "execution_count": null,
   "id": "2b75a1e5",
   "metadata": {},
   "outputs": [],
   "source": [
    "using ImageShow\n",
    "using StrangelyDisplayed\n",
    "using StrangelyQuantum"
   ]
  },
  {
   "cell_type": "markdown",
   "id": "1fc82e72",
   "metadata": {},
   "source": [
    "The following function applies a Hadamard gate, then an oracle in a program that requires two qubits."
   ]
  },
  {
   "cell_type": "code",
   "execution_count": null,
   "id": "cad888e4",
   "metadata": {},
   "outputs": [],
   "source": [
    "function oracle_example1()\n",
    "    simulator = SimpleQuantumExecutionEnvironment()\n",
    "    program = Program(2)\n",
    "    step1 = Step()\n",
    "    # Apply a Hadamard gate to the second qubit.\n",
    "    addGate(step1, Hadamard(2))\n",
    "    # Create a matrix containing complex numbers.\n",
    "    matrix = ComplexF64[\n",
    "        1 0 0 0\n",
    "        0 1 0 0\n",
    "        0 0 0 1\n",
    "        0 0 1 0\n",
    "    ]\n",
    "    # Create an oracle based on the matrix\n",
    "    oracle = Oracle(matrix)\n",
    "\n",
    "    # Create a second step in which the oracle is applied\n",
    "    step2 = Step()\n",
    "    addGate(step2, oracle)\n",
    "\n",
    "    addStep(program, step1)\n",
    "    addStep(program, step2)\n",
    "    return program\n",
    "end"
   ]
  },
  {
   "cell_type": "markdown",
   "id": "b0d982c3",
   "metadata": {},
   "source": [
    "Construct the program:"
   ]
  },
  {
   "cell_type": "code",
   "execution_count": null,
   "id": "9a359851",
   "metadata": {},
   "outputs": [],
   "source": [
    "program = oracle_example1()"
   ]
  },
  {
   "cell_type": "markdown",
   "id": "599bf9ca",
   "metadata": {},
   "source": [
    "Show the program and its sampled histogram:"
   ]
  },
  {
   "cell_type": "code",
   "execution_count": null,
   "id": "38723f27",
   "metadata": {},
   "outputs": [],
   "source": [
    "drawProgram(program)"
   ]
  },
  {
   "cell_type": "code",
   "execution_count": null,
   "id": "100e49c2",
   "metadata": {},
   "outputs": [],
   "source": [
    "drawTrialHistogram(program, 1000)"
   ]
  },
  {
   "cell_type": "markdown",
   "id": "09e1a95f",
   "metadata": {},
   "source": [
    "The result is the same as the program example in [chapter 5](ch05-03-cnot.ipynb)."
   ]
  }
 ],
 "metadata": {
  "kernelspec": {
   "display_name": "Julia 1.9.0-beta2",
   "language": "julia",
   "name": "julia-1.9"
  },
  "language_info": {
   "file_extension": ".jl",
   "mimetype": "application/julia",
   "name": "julia",
   "version": "1.9.0"
  }
 },
 "nbformat": 4,
 "nbformat_minor": 5
}
