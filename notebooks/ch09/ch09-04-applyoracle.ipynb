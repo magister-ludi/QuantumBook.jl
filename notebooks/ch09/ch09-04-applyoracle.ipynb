{
 "cells": [
  {
   "cell_type": "markdown",
   "id": "e2c8ccb0",
   "metadata": {},
   "source": [
    "## 9.6 Deutsch algorithm (part 1)\n",
    "This code shows how 4 different Oracles, representing 4 classical functions, act when being applied to different input states."
   ]
  },
  {
   "cell_type": "code",
   "execution_count": null,
   "id": "c928a097",
   "metadata": {},
   "outputs": [],
   "source": [
    "using ImageShow\n",
    "using StrangelyDisplayed\n",
    "using StrangelyQuantum"
   ]
  },
  {
   "cell_type": "markdown",
   "id": "d7eed75a",
   "metadata": {},
   "source": [
    "The following function constructs one of four different oracles, depending on the input argument `f`."
   ]
  },
  {
   "cell_type": "code",
   "execution_count": null,
   "id": "7722e921",
   "metadata": {},
   "outputs": [],
   "source": [
    "function createOracle(f)\n",
    "    matrix = zeros(ComplexF64, 4, 4)\n",
    "\n",
    "    if f == 1\n",
    "        matrix[1, 1] = 1\n",
    "        matrix[2, 2] = 1\n",
    "        matrix[3, 3] = 1\n",
    "        matrix[4, 4] = 1\n",
    "        return Oracle(matrix)\n",
    "    elseif f == 2\n",
    "        matrix[1, 1] = 1\n",
    "        matrix[2, 2] = 1\n",
    "        matrix[3, 4] = 1\n",
    "        matrix[4, 3] = 1\n",
    "        return Oracle(matrix)\n",
    "    elseif f == 3\n",
    "        matrix[1, 2] = 1\n",
    "        matrix[2, 1] = 1\n",
    "        matrix[3, 3] = 1\n",
    "        matrix[4, 4] = 1\n",
    "        return Oracle(matrix)\n",
    "    elseif f == 4\n",
    "        matrix[1, 2] = 1\n",
    "        matrix[2, 1] = 1\n",
    "        matrix[3, 4] = 1\n",
    "        matrix[4, 3] = 1\n",
    "        return Oracle(matrix)\n",
    "    else\n",
    "        throw(\"Wrong index in oracle construction\")\n",
    "    end\n",
    "end"
   ]
  },
  {
   "cell_type": "markdown",
   "id": "cfaa7314",
   "metadata": {},
   "source": [
    "The next function constructs a program with two qubits, whos initial values are given by `qubit1` and `qubit2` respectively. The third argument selects an oracle (using `createOracle`), which is applied to both qubits."
   ]
  },
  {
   "cell_type": "code",
   "execution_count": null,
   "id": "957cf7dd",
   "metadata": {},
   "outputs": [],
   "source": [
    "function construct_oracle_program(qubit1, qubit2, choice)\n",
    "    program = Program(2)\n",
    "\n",
    "    prepareStep = Step()\n",
    "    qubit1 == 1 && addGate(prepareStep, X(1))\n",
    "    qubit2 == 2 && addGate(prepareStep, X(2))\n",
    "    addStep(program, prepareStep)\n",
    "\n",
    "    oracleStep = Step()\n",
    "    oracle = createOracle(choice)\n",
    "    addGate(oracleStep, oracle)\n",
    "    addStep(program, oracleStep)\n",
    "    return program\n",
    "end"
   ]
  },
  {
   "cell_type": "code",
   "execution_count": null,
   "id": "73428a49",
   "metadata": {},
   "outputs": [],
   "source": [
    "One example program (and its sampling histogram) is displayed here:"
   ]
  },
  {
   "cell_type": "code",
   "execution_count": null,
   "id": "153b06a7",
   "metadata": {},
   "outputs": [],
   "source": [
    "sample = construct_oracle_program(0, 0, 2)"
   ]
  },
  {
   "cell_type": "code",
   "execution_count": null,
   "id": "104a1044",
   "metadata": {},
   "outputs": [],
   "source": [
    "drawProgram(sample)"
   ]
  },
  {
   "cell_type": "code",
   "execution_count": null,
   "id": "4a469702",
   "metadata": {},
   "outputs": [],
   "source": [
    "drawTrialHistogram(sample, 1000)"
   ]
  },
  {
   "cell_type": "markdown",
   "id": "34718169",
   "metadata": {},
   "source": [
    "The next function uses `construct_oracle_program` to construct a program using the provided initial values for the two qubits, and cycles through all available oracles tp determine the results."
   ]
  },
  {
   "cell_type": "code",
   "execution_count": null,
   "id": "19a10a3a",
   "metadata": {},
   "outputs": [],
   "source": [
    "function apply_oracle(qubit1, qubit2)\n",
    "    simulator = SimpleQuantumExecutionEnvironment()\n",
    "    for choice = 1:4\n",
    "        program = construct_oracle_program(qubit1, qubit2, choice)\n",
    "\n",
    "        result = runProgram(simulator, program)\n",
    "        qubits = getQubits(result)\n",
    "\n",
    "        constant = choice == 1 || choice == 4\n",
    "\n",
    "        println(constant ? \"C\" : \"B\", \", measured = |\",\n",
    "                measure(qubits[1]), measure(qubits[2]), \">\")\n",
    "    end\n",
    "end"
   ]
  },
  {
   "cell_type": "markdown",
   "id": "e1bd8651",
   "metadata": {},
   "source": [
    "Now a function to use all posible pairs of input values:"
   ]
  },
  {
   "cell_type": "code",
   "execution_count": null,
   "id": "c75ff0cc",
   "metadata": {},
   "outputs": [],
   "source": [
    "function oracle_example2()\n",
    "    println(\"Use 00 as input\")\n",
    "    apply_oracle(0, 0)\n",
    "    println(\"\\nUse 01 as input\")\n",
    "    apply_oracle(0, 1)\n",
    "    println(\"\\nUse 10 as input\")\n",
    "    apply_oracle(1, 0)\n",
    "    println(\"\\nUse 11 as input\")\n",
    "    apply_oracle(1, 1)\n",
    "end"
   ]
  },
  {
   "cell_type": "markdown",
   "id": "56a27166",
   "metadata": {},
   "source": [
    "Running it gives the following:"
   ]
  },
  {
   "cell_type": "code",
   "execution_count": null,
   "id": "4059070b",
   "metadata": {},
   "outputs": [],
   "source": [
    "oracle_example2()"
   ]
  },
  {
   "cell_type": "markdown",
   "id": "e390b438",
   "metadata": {},
   "source": [
    "All output values are either $|00\\hspace{-0.25em}>$ or $|10\\hspace{-0.25em}>$, but no combination of inputs allows us to distinguish between the constant functions (marked $C$) and the balanced functions (marked $B$).\n",
    "\n",
    "A [different program](ch09-05-deutsch.ipynb) is required for this."
   ]
  }
 ],
 "metadata": {
  "kernelspec": {
   "display_name": "Julia 1.9.0-beta2",
   "language": "julia",
   "name": "julia-1.9"
  },
  "language_info": {
   "file_extension": ".jl",
   "mimetype": "application/julia",
   "name": "julia",
   "version": "1.9.0"
  }
 },
 "nbformat": 4,
 "nbformat_minor": 5
}
