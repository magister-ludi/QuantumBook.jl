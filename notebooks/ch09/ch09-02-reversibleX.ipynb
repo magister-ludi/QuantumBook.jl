{
 "cells": [
  {
   "cell_type": "markdown",
   "id": "d1018331",
   "metadata": {},
   "source": [
    "## 9.3 Reversible quantum gates\n",
    "Quantum gates are *reversible*, meaning that if a gate is applied twice, a state returns to what it was before the first application. This is an example demonstrating this."
   ]
  },
  {
   "cell_type": "code",
   "execution_count": null,
   "id": "3719256c",
   "metadata": {},
   "outputs": [],
   "source": [
    "using ImageShow\n",
    "using StrangelyDisplayed\n",
    "using StrangelyQuantum"
   ]
  },
  {
   "cell_type": "markdown",
   "id": "b92419dd",
   "metadata": {},
   "source": [
    "The following function takes an argument of a Gate **type** and constructs a program that constructs two gates of that type. In this example, only gates that act on a single qubit will work. The qubit is set so that its initial state has a 75% ($0.75=1-0.5^2$) probability of being 1."
   ]
  },
  {
   "cell_type": "code",
   "execution_count": null,
   "id": "da3324c0",
   "metadata": {},
   "outputs": [],
   "source": [
    "function reversible(::Type{T}) where {T <: Gate}\n",
    "    simulator = SimpleQuantumExecutionEnvironment()\n",
    "    program = Program(1)\n",
    "    step0 = Step()\n",
    "    # Apply a T gate to the qubit.\n",
    "    addGate(step0, T(1))\n",
    "\n",
    "    step1 = Step()\n",
    "    # Apply a second T gate to the qubit.\n",
    "    addGate(step1, T(1))\n",
    "    addStep(program, step0)\n",
    "    addStep(program, step1)\n",
    "    # Initialise the single qubit with an alpha value of 0.5,\n",
    "    # which leads to a probability of 75% of measuring 1\n",
    "    initializeQubit(program, 1, 0.5)\n",
    "\n",
    "    return program\n",
    "end"
   ]
  },
  {
   "cell_type": "markdown",
   "id": "7bd63838",
   "metadata": {},
   "source": [
    "Choosing gate type `X`, we construct a program:"
   ]
  },
  {
   "cell_type": "code",
   "execution_count": null,
   "id": "33fbf09e",
   "metadata": {},
   "outputs": [],
   "source": [
    "program = reversible(X)"
   ]
  },
  {
   "cell_type": "markdown",
   "id": "7e4db651",
   "metadata": {},
   "source": [
    "The program and its sampled histogram both show that the result is also a state with a 75% probability of being in state 1."
   ]
  },
  {
   "cell_type": "code",
   "execution_count": null,
   "id": "3f4c6e0b",
   "metadata": {},
   "outputs": [],
   "source": [
    "drawProgram(program)"
   ]
  },
  {
   "cell_type": "code",
   "execution_count": null,
   "id": "bb5dd693",
   "metadata": {},
   "outputs": [],
   "source": [
    "drawTrialHistogram(program, 1000)"
   ]
  }
 ],
 "metadata": {
  "kernelspec": {
   "display_name": "Julia 1.9.0-beta2",
   "language": "julia",
   "name": "julia-1.9"
  },
  "language_info": {
   "file_extension": ".jl",
   "mimetype": "application/julia",
   "name": "julia",
   "version": "1.9.0"
  }
 },
 "nbformat": 4,
 "nbformat_minor": 5
}
