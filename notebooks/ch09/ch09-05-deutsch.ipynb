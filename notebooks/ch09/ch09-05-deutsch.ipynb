{
 "cells": [
  {
   "cell_type": "markdown",
   "id": "ed3cac4d",
   "metadata": {},
   "source": [
    "## 9.6 Deutsch algorithm (part 2)\n",
    "A demonstration of the [Deutsch algorithm](https://en.wikipedia.org/wiki/Deutsch%E2%80%93Jozsa_algorithm)."
   ]
  },
  {
   "cell_type": "code",
   "execution_count": null,
   "id": "7d997572",
   "metadata": {},
   "outputs": [],
   "source": [
    "using ImageShow\n",
    "using StrangelyDisplayed\n",
    "using StrangelyQuantum"
   ]
  },
  {
   "cell_type": "markdown",
   "id": "9014f414",
   "metadata": {},
   "source": [
    "A function to create one of four oracle gates (identical to the function provided [earlier](ch09-04-applyoracle.ipynb):"
   ]
  },
  {
   "cell_type": "code",
   "execution_count": null,
   "id": "26aa40a1",
   "metadata": {},
   "outputs": [],
   "source": [
    "function createOracle(f)\n",
    "    matrix = zeros(ComplexF64, 4, 4)\n",
    "\n",
    "    if f == 1\n",
    "        matrix[1, 1] = 1\n",
    "        matrix[2, 2] = 1\n",
    "        matrix[3, 3] = 1\n",
    "        matrix[4, 4] = 1\n",
    "        return Oracle(matrix)\n",
    "    elseif f == 2\n",
    "        matrix[1, 1] = 1\n",
    "        matrix[2, 4] = 1\n",
    "        matrix[3, 2] = 1\n",
    "        matrix[4, 3] = 1\n",
    "        return Oracle(matrix)\n",
    "    elseif f == 3\n",
    "        matrix[1, 3] = 1\n",
    "        matrix[2, 2] = 1\n",
    "        matrix[3, 1] = 1\n",
    "        matrix[4, 4] = 1\n",
    "        return Oracle(matrix)\n",
    "    elseif f == 4\n",
    "        matrix[1, 3] = 1\n",
    "        matrix[2, 4] = 1\n",
    "        matrix[3, 1] = 1\n",
    "        matrix[4, 2] = 1\n",
    "        return Oracle(matrix)\n",
    "    else\n",
    "        throw(\"Wrong index in oracle\")\n",
    "    end\n",
    "end"
   ]
  },
  {
   "cell_type": "markdown",
   "id": "6a02a482",
   "metadata": {},
   "source": [
    "A new driver for the oracle function that uses Deutsch's algorithm on the four oracle gates:"
   ]
  },
  {
   "cell_type": "code",
   "execution_count": null,
   "id": "3480e6a7",
   "metadata": {},
   "outputs": [],
   "source": [
    "function deutsch()\n",
    "    simulator = SimpleQuantumExecutionEnvironment()\n",
    "    program = nothing\n",
    "    for choice = 1:4\n",
    "        # Create a program with two qubits\n",
    "        program = Program(2)\n",
    "        step0 = Step()\n",
    "        # Apply a Pauli-X gate to the second qubit.\n",
    "        addGate(step0, X(2))\n",
    "\n",
    "        step1 = Step()\n",
    "        # Apply Hadamard gates to both qubits.\n",
    "        addGate(step1, Hadamard(1))\n",
    "        addGate(step1, Hadamard(2))\n",
    "\n",
    "        step2 = Step()\n",
    "        # Choose an oracle (from a predefined\n",
    "        # list) and apply it\n",
    "        oracle = createOracle(choice)\n",
    "        addGate(step2, oracle)\n",
    "\n",
    "        step3 = Step()\n",
    "        # Apply another Hadamard gate to the first qubit\n",
    "        addGate(step3, Hadamard(1))\n",
    "\n",
    "        addStep(program, step0)\n",
    "        addStep(program, step1)\n",
    "        addStep(program, step2)\n",
    "        addStep(program, step3)\n",
    "        # Execute the quantum program\n",
    "        result = runProgram(simulator, program)\n",
    "        qubits = getQubits(result)\n",
    "        # Measure the first qubit is. Based on its\n",
    "        # value, we know whether the oracle corresponded\n",
    "        # with a constant or balanced function.\n",
    "        println(\"f = \", choice, \", val = \", measure(qubits[1]))\n",
    "    end\n",
    "    # return the final program\n",
    "    return program\n",
    "end"
   ]
  },
  {
   "cell_type": "markdown",
   "id": "1da914a9",
   "metadata": {},
   "source": [
    "Run the algoritm to get the results."
   ]
  },
  {
   "cell_type": "code",
   "execution_count": null,
   "id": "8bd06624",
   "metadata": {},
   "outputs": [],
   "source": [
    "program = deutsch()"
   ]
  },
  {
   "cell_type": "markdown",
   "id": "09b3401c",
   "metadata": {},
   "source": [
    "Functions 1 and 4 are constant functions, and this is what the program confirms. The constructed program for function 4 and its sampling histogram are show below."
   ]
  },
  {
   "cell_type": "code",
   "execution_count": null,
   "id": "05e78eae",
   "metadata": {},
   "outputs": [],
   "source": [
    "drawProgram(program)"
   ]
  },
  {
   "cell_type": "code",
   "execution_count": null,
   "id": "8079dd37",
   "metadata": {},
   "outputs": [],
   "source": [
    "drawTrialHistogram(program, 1000)"
   ]
  }
 ],
 "metadata": {
  "kernelspec": {
   "display_name": "Julia 1.9.0-beta2",
   "language": "julia",
   "name": "julia-1.9"
  },
  "language_info": {
   "file_extension": ".jl",
   "mimetype": "application/julia",
   "name": "julia",
   "version": "1.9.0"
  }
 },
 "nbformat": 4,
 "nbformat_minor": 5
}
