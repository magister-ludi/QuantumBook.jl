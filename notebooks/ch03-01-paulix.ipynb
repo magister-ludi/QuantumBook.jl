{
 "cells": [
  {
   "cell_type": "markdown",
   "id": "4fe0f737",
   "metadata": {},
   "source": [
    "## 3.4 A first [quantum] gate: Pauli-X\n",
    "This example shows how to create a very basic quantum circuit\n",
    "with StrangelyQuantum. It consists of a single qubit, and a single\n",
    "gate (the Pauli-X gate) that is applied to that qubit."
   ]
  },
  {
   "cell_type": "code",
   "execution_count": null,
   "id": "b3e07033",
   "metadata": {},
   "outputs": [],
   "source": [
    "using StrangelyQuantum"
   ]
  },
  {
   "cell_type": "markdown",
   "id": "a4f39ac5",
   "metadata": {},
   "source": [
    "This sample first creates a quantum `Program` and a `Step`.\n",
    "An `X` Gate (short for Pauli-X gate) is added to the step,\n",
    "and the step is added to the program.\n",
    "\n",
    "The program is executed on the built-in quantum simulator,\n",
    "and the result is obtained. The value of the single qubit\n",
    "is measured and printed. Since initially, the value of the\n",
    "qubit was `0`, the resulting value will guaranteed be `1`."
   ]
  },
  {
   "cell_type": "code",
   "execution_count": null,
   "id": "a8443ef8",
   "metadata": {},
   "outputs": [],
   "source": [
    "function paulix_demo()\n",
    "    # Construct simulation environment\n",
    "    simulator = SimpleQuantumExecutionEnvironment()\n",
    "    # Construct a Program operating on one qubit\n",
    "    program = Program(1)\n",
    "    # Construct and add a step with a Pauli-X gate\n",
    "    step = Step()\n",
    "    addGate(step, X(1))\n",
    "    addStep(program, step)\n",
    "    # Execute the Program\n",
    "    result = runProgram(simulator, program)\n",
    "    # Examine and show the output\n",
    "    qubits = getQubits(result)\n",
    "    q1 = qubits[1]\n",
    "    value = measure(q1)\n",
    "    println(\"Value = \", value)\n",
    "end"
   ]
  },
  {
   "cell_type": "code",
   "execution_count": null,
   "id": "aa1675d7",
   "metadata": {},
   "outputs": [],
   "source": [
    "paulix_demo()"
   ]
  }
 ],
 "metadata": {
  "kernelspec": {
   "display_name": "Julia 1.9.0-beta2",
   "language": "julia",
   "name": "julia-1.9"
  },
  "language_info": {
   "file_extension": ".jl",
   "mimetype": "application/julia",
   "name": "julia",
   "version": "1.9.0"
  }
 },
 "nbformat": 4,
 "nbformat_minor": 5
}
