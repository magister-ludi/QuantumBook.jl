{
 "cells": [
  {
   "cell_type": "markdown",
   "id": "32cbaa6f",
   "metadata": {},
   "source": [
    "## 5.6 Creating a Bell state: Dependent probabilities\n",
    "This example introduces entanglement. A Bell state is created\n",
    "by applying a Hadamard gate to a qubit, and a CNot gate to\n",
    "this qubit and another qubit."
   ]
  },
  {
   "cell_type": "code",
   "execution_count": null,
   "id": "54a1ff2d",
   "metadata": {},
   "outputs": [],
   "source": [
    "using ImageShow\n",
    "using StrangelyDisplayed\n",
    "using StrangelyQuantum"
   ]
  },
  {
   "cell_type": "code",
   "execution_count": null,
   "id": "ac612035",
   "metadata": {},
   "outputs": [],
   "source": [
    "function entanglement()\n",
    "    simulator = SimpleQuantumExecutionEnvironment()\n",
    "    program = Program(2)\n",
    "    step1 = Step()\n",
    "    addGate(step1, Hadamard(1))\n",
    "    addStep(program, step1)\n",
    "    step2 = Step()\n",
    "    addGate(step2, Cnot(1, 2))\n",
    "    addStep(program, step2)\n",
    "    result = runProgram(simulator, program)\n",
    "    qubits = getQubits(result)\n",
    "    q1 = qubits[1]\n",
    "    q2 = qubits[2]\n",
    "    v1 = measure(q1)\n",
    "    v2 = measure(q2)\n",
    "    return program\n",
    "end"
   ]
  },
  {
   "cell_type": "code",
   "execution_count": null,
   "id": "a307b69e",
   "metadata": {},
   "outputs": [],
   "source": [
    "program = entanglement()"
   ]
  },
  {
   "cell_type": "markdown",
   "id": "340c5f09",
   "metadata": {},
   "source": [
    "Each qubit has a 50% chance of being in the $|0>$ state or the $|1>$ state:"
   ]
  },
  {
   "cell_type": "code",
   "execution_count": null,
   "id": "aa6d6686",
   "metadata": {},
   "outputs": [],
   "source": [
    "drawProgram(program)"
   ]
  },
  {
   "cell_type": "markdown",
   "id": "65c7579a",
   "metadata": {},
   "source": [
    "However the qubits are now\n",
    "entangled. Their measurements are not independent of each\n",
    "other anymore. Only the $|00>$ or the $|11>$ outcome is possible."
   ]
  },
  {
   "cell_type": "code",
   "execution_count": null,
   "id": "7b45a0ea",
   "metadata": {},
   "outputs": [],
   "source": [
    "drawTrialHistogram(program, 1000)"
   ]
  }
 ],
 "metadata": {
  "kernelspec": {
   "display_name": "Julia 1.9.0-beta2",
   "language": "julia",
   "name": "julia-1.9"
  },
  "language_info": {
   "file_extension": ".jl",
   "mimetype": "application/julia",
   "name": "julia",
   "version": "1.9.0"
  }
 },
 "nbformat": 4,
 "nbformat_minor": 5
}
