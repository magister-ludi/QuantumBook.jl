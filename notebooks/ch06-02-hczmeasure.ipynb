{
 "cells": [
  {
   "cell_type": "markdown",
   "id": "23be43ba",
   "metadata": {},
   "source": [
    "### 6.3.1 Pauli-Z gate\n",
    "This is a solution to **Exercise 6.1**:"
   ]
  },
  {
   "cell_type": "code",
   "execution_count": null,
   "id": "d80f53c9",
   "metadata": {},
   "outputs": [],
   "source": [
    "using ImageShow\n",
    "using StrangelyDisplayed\n",
    "using StrangelyQuantum"
   ]
  },
  {
   "cell_type": "markdown",
   "id": "ee26fda9",
   "metadata": {},
   "source": [
    "The exercise: You can create a simple quantum circuit with two qubits. First, apply a Hadamard gate\n",
    "to the first qubit. Next, apply a Controlled-Z gate to the two qubits, with the first qubit\n",
    "being the control qubit. Finally, measure the two qubits."
   ]
  },
  {
   "cell_type": "code",
   "execution_count": null,
   "id": "3c13ef96",
   "metadata": {},
   "outputs": [],
   "source": [
    "function hcz_example()\n",
    "    simulator = SimpleQuantumExecutionEnvironment()\n",
    "    program = Program(2)\n",
    "    step1 = Step()\n",
    "    addGate(step1, Hadamard(1))\n",
    "    addStep(program, step1)\n",
    "    step2 = Step()\n",
    "    addGate(step2, Cz(1, 2))\n",
    "    addStep(program, step2)\n",
    "    return program\n",
    "end"
   ]
  },
  {
   "cell_type": "code",
   "execution_count": null,
   "id": "c4d18a9a",
   "metadata": {},
   "outputs": [],
   "source": [
    "program = hcz_example();"
   ]
  },
  {
   "cell_type": "code",
   "execution_count": null,
   "id": "7b547eee",
   "metadata": {},
   "outputs": [],
   "source": [
    "drawProgram(program)"
   ]
  },
  {
   "cell_type": "code",
   "execution_count": null,
   "id": "0166c25d",
   "metadata": {},
   "outputs": [],
   "source": [
    "drawTrialHistogram(program, 1000)"
   ]
  }
 ],
 "metadata": {
  "kernelspec": {
   "display_name": "Julia 1.9.0-beta2",
   "language": "julia",
   "name": "julia-1.9"
  },
  "language_info": {
   "file_extension": ".jl",
   "mimetype": "application/julia",
   "name": "julia",
   "version": "1.9.0"
  }
 },
 "nbformat": 4,
 "nbformat_minor": 5
}
