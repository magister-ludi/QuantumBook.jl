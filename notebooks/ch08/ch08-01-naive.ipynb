{
 "cells": [
  {
   "cell_type": "markdown",
   "id": "cfb1e28c",
   "metadata": {},
   "source": [
    "## 8.3 Naive approach\n",
    "This code shows a first attempt to exchange a shared secret key"
   ]
  },
  {
   "cell_type": "code",
   "execution_count": null,
   "id": "a06ef6ec",
   "metadata": {},
   "outputs": [],
   "source": [
    "using ImageShow\n",
    "using Random\n",
    "using StrangelyDisplayed\n",
    "using StrangelyQuantum"
   ]
  },
  {
   "cell_type": "markdown",
   "id": "cbce56d7",
   "metadata": {},
   "source": [
    "In the following method, `aliceBits` and any X gates \"belong\" to the sender. The Measurement gates and `bobBits` \"belong\" to the receiver. The argument determines how many bits are constructed and transmitted."
   ]
  },
  {
   "cell_type": "code",
   "execution_count": null,
   "id": "232b6773",
   "metadata": {},
   "outputs": [],
   "source": [
    "function naive_transmission(key_size::Integer)\n",
    "    random = Xoshiro()\n",
    "\n",
    "    # Generate the key by assigning random values to each bit.\n",
    "    aliceBits = [rand(random, Bool) for _ = 1:key_size]\n",
    "\n",
    "    simulator = SimpleQuantumExecutionEnvironment()\n",
    "    # Create a program that involves 1 qubit for every bit in the key\n",
    "    program = Program(key_size)\n",
    "    step1 = Step()\n",
    "    step2 = Step()\n",
    "    for i = 1:key_size\n",
    "        # When a bit is true, a Pauli-X gate is applied\n",
    "        # to the corresponding qubit.\n",
    "        aliceBits[i] && addGate(step1, X(i))\n",
    "        # All qubits will be measured in step 2.\n",
    "        addGate(step2, Measurement(i))\n",
    "    end\n",
    "\n",
    "    addStep(program, step1)\n",
    "    addStep(program, step2)\n",
    "\n",
    "    result = runProgram(simulator, program)\n",
    "    qubit = getQubits(result)\n",
    "\n",
    "    measurement = Vector{Int}(undef, key_size)\n",
    "    bobBits = Vector{Bool}(undef, key_size)\n",
    "    for i = 1:key_size\n",
    "        # Measures the qubit and print the value next to the\n",
    "        # original value of the corresponding bit\n",
    "        measurement[i] = measure(qubit[i])\n",
    "        bobBits[i] = measurement[i] == 1\n",
    "        println(\n",
    "            \"Alice sent \",\n",
    "            aliceBits[i] ? '1' : '0',\n",
    "            \" and Bob received \",\n",
    "            bobBits[i] ? '1' : '0',\n",
    "        )\n",
    "    end\n",
    "    return program\n",
    "end"
   ]
  },
  {
   "cell_type": "code",
   "execution_count": null,
   "id": "9086353c",
   "metadata": {},
   "outputs": [],
   "source": [
    "program = naive_transmission(4)"
   ]
  },
  {
   "cell_type": "markdown",
   "id": "695abc01",
   "metadata": {},
   "source": [
    "The result above shows that the qubits are reliably transmitted. However an interloper could insert Measurement gates before the Measurement gates provided. The interloper would measure and retransmit the same bits, and security would be lost."
   ]
  },
  {
   "cell_type": "code",
   "execution_count": null,
   "id": "b9609498",
   "metadata": {},
   "outputs": [],
   "source": [
    "drawProgram(program)"
   ]
  }
 ],
 "metadata": {
  "kernelspec": {
   "display_name": "Julia 1.9.0-beta2",
   "language": "julia",
   "name": "julia-1.9"
  },
  "language_info": {
   "file_extension": ".jl",
   "mimetype": "application/julia",
   "name": "julia",
   "version": "1.9.0"
  }
 },
 "nbformat": 4,
 "nbformat_minor": 5
}
