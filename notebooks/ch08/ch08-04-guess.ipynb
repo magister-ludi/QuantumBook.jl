{
 "cells": [
  {
   "cell_type": "markdown",
   "id": "296820a3",
   "metadata": {},
   "source": [
    "### 8.5.1 Confusing the eavesdropper\n",
    "This example shows the different scenarios that can happen: the sender can apply a Hadamard gate, but might decide not to do that. Hence, the eavesdropper doesn't know whether to apply a Hadamard gate or not."
   ]
  },
  {
   "cell_type": "code",
   "execution_count": null,
   "id": "cca61462",
   "metadata": {},
   "outputs": [],
   "source": [
    "using ImageShow\n",
    "using StrangelyDisplayed\n",
    "using StrangelyQuantum"
   ]
  },
  {
   "cell_type": "markdown",
   "id": "80eff76e",
   "metadata": {},
   "source": [
    "The following function is the equivalent of **Listing 8.1**. All bits being sent are zeros. There are three steps before the measure step:\n",
    "\n",
    "1. A zero or a 1 is sent\n",
    "2. A Hadamard gate is either applied or not applied\n",
    "3. Another Hadamard gate is either applied or not applied\n",
    "\n",
    "This means that there are $8\\equiv2^3$ combinations of steps. All combinations are demonstrated by the function:"
   ]
  },
  {
   "cell_type": "code",
   "execution_count": null,
   "id": "286d9565",
   "metadata": {},
   "outputs": [],
   "source": [
    "function guess()\n",
    "    key_length = 8\n",
    "    aliceBits = falses(key_length)\n",
    "\n",
    "    simulator = SimpleQuantumExecutionEnvironment()\n",
    "    program = Program(key_length)\n",
    "    prepareStep = Step()\n",
    "    superPositionStep = Step()\n",
    "    superPositionStep2 = Step()\n",
    "    measureStep = Step()\n",
    "    for i = 1:key_length\n",
    "        i > (key_length ÷ 2) && addGate(prepareStep, X(i))\n",
    "        ((i - 1) ÷ 2) % 2 == 1 && addGate(superPositionStep, Hadamard(i))\n",
    "        (i - 1) % 2 == 1 && addGate(superPositionStep2, Hadamard(i))\n",
    "        addGate(measureStep, Measurement(i))\n",
    "    end\n",
    "\n",
    "    addStep(program, prepareStep)\n",
    "    addStep(program, superPositionStep)\n",
    "    addStep(program, superPositionStep2)\n",
    "    addStep(program, measureStep)\n",
    "\n",
    "    result = runProgram(simulator, program)\n",
    "    qubit = getQubits(result)\n",
    "\n",
    "    measurement = Vector{Int}(undef, key_length)\n",
    "    bobBits = Vector{Bool}(undef, key_length)\n",
    "    for i = 1:key_length\n",
    "        measurement[i] = measure(qubit[i])\n",
    "        bobBits[i] = measurement[i] == 1\n",
    "        println(\n",
    "            \"Alice sent \",\n",
    "            aliceBits[i] ? '1' : '0',\n",
    "            \" and Bob received \",\n",
    "            bobBits[i] ? '1' : '0',\n",
    "        )\n",
    "    end\n",
    "\n",
    "    return program\n",
    "end"
   ]
  },
  {
   "cell_type": "code",
   "execution_count": null,
   "id": "cf346e52",
   "metadata": {},
   "outputs": [],
   "source": [
    "program = guess()"
   ]
  },
  {
   "cell_type": "code",
   "execution_count": null,
   "id": "6e31a718",
   "metadata": {
    "scrolled": true
   },
   "outputs": [],
   "source": [
    "drawProgram(program)"
   ]
  },
  {
   "cell_type": "markdown",
   "id": "6c3b365f",
   "metadata": {},
   "source": [
    "The diagram shows that if either zero or two Hadamard gates are applied, the measurement is the same as the original qubit. If only one Hadamard gate is applied (either in step 2 or in step 3) the measurement will be wrong 50% of the time.\n",
    "\n",
    "This means that if an eavesdropper doesn't know whether a Hadamard gate was applied to the outgoing qubit, guessing whether to apply one or not will give the wrong value 50% of the time, and will also result in incorrect data being re-transmitted to the intended recipient."
   ]
  }
 ],
 "metadata": {
  "kernelspec": {
   "display_name": "Julia 1.9.0-beta2",
   "language": "julia",
   "name": "julia-1.9"
  },
  "language_info": {
   "file_extension": ".jl",
   "mimetype": "application/julia",
   "name": "julia",
   "version": "1.9.0"
  }
 },
 "nbformat": 4,
 "nbformat_minor": 5
}
