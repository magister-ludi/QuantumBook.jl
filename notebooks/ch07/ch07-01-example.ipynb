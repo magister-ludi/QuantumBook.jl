{
 "cells": [
  {
   "cell_type": "markdown",
   "id": "425ced2c",
   "metadata": {},
   "source": [
    "### 7.5.1 Visualization of circuits\n",
    "This example is intended to show how a simple quantum circuit is constructed and displayed"
   ]
  },
  {
   "cell_type": "code",
   "execution_count": null,
   "id": "e2464d7e",
   "metadata": {},
   "outputs": [],
   "source": [
    "using ImageShow\n",
    "using StrangelyDisplayed\n",
    "using StrangelyQuantum"
   ]
  },
  {
   "cell_type": "markdown",
   "id": "514e1357",
   "metadata": {},
   "source": [
    "The code presented in **Section 7.5.1** is provided in the next cell."
   ]
  },
  {
   "cell_type": "code",
   "execution_count": null,
   "id": "0de687ff",
   "metadata": {},
   "outputs": [],
   "source": [
    "function simple_example()\n",
    "    dim = 4\n",
    "    program = Program(dim)\n",
    "    step0 = Step(Hadamard(1), X(4))\n",
    "    step1 = Step(Cnot(1, 2))\n",
    "\n",
    "    addSteps(program, step0, step1)\n",
    "\n",
    "    qee = SimpleQuantumExecutionEnvironment()\n",
    "    result = runProgram(qee, program)\n",
    "    qubits = getQubits(result)\n",
    "    for i = 1:dim\n",
    "        println(\"Qubit[\", i, \"]: \", measure(qubits[i]))\n",
    "    end\n",
    "    return program\n",
    "end"
   ]
  },
  {
   "cell_type": "markdown",
   "id": "00fa8816",
   "metadata": {},
   "source": [
    "As explained in the text, it is expected that the printed output of this code is either\n",
    "```\n",
    "Qubit[1]: 1\n",
    "Qubit[2]: 1\n",
    "Qubit[3]: 0\n",
    "Qubit[4]: 1\n",
    "```\n",
    "or\n",
    "```\n",
    "Qubit[1]: 0\n",
    "Qubit[2]: 0\n",
    "Qubit[3]: 0\n",
    "Qubit[4]: 1\n",
    "```\n",
    "We run the code in the next cell:"
   ]
  },
  {
   "cell_type": "code",
   "execution_count": null,
   "id": "f0df7741",
   "metadata": {},
   "outputs": [],
   "source": [
    "program = simple_example()"
   ]
  },
  {
   "cell_type": "code",
   "execution_count": null,
   "id": "e572bba9",
   "metadata": {
    "scrolled": true
   },
   "outputs": [],
   "source": [
    "drawProgram(program)"
   ]
  },
  {
   "cell_type": "markdown",
   "id": "7c98a4e5",
   "metadata": {},
   "source": [
    "The visualization shows that the quantum program starts with four qubits. In a first step,\n",
    "a Hadamard and a NOT gate are added to the circuit. On the right side of the figure,\n",
    "the resulting qubits are shown, with the probability that they will be measured as 1."
   ]
  },
  {
   "cell_type": "markdown",
   "id": "c7dc223e",
   "metadata": {},
   "source": [
    "The [next example](ch07-02-debugexample.ipynb) uses the same circuit as above, but shows some debugging methods that are provided by `StrangelyQuantum` and `StrangelyDisplayed`."
   ]
  }
 ],
 "metadata": {
  "kernelspec": {
   "display_name": "Julia 1.9.0-beta2",
   "language": "julia",
   "name": "julia-1.9"
  },
  "language_info": {
   "file_extension": ".jl",
   "mimetype": "application/julia",
   "name": "julia",
   "version": "1.9.0"
  }
 },
 "nbformat": 4,
 "nbformat_minor": 5
}
