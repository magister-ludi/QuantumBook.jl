{
 "cells": [
  {
   "cell_type": "markdown",
   "id": "09330ddb",
   "metadata": {},
   "source": [
    "## 5.3 Independent probabilities: The quantum way\n",
    "This example shows the possible combinations when tossing\n",
    "two \"quantum coins\". The\n",
    "the coins are independent of each other. A similar example using\n",
    "\"classical\" coins is [here](ch05-01-classiccoin.ipynb)."
   ]
  },
  {
   "cell_type": "code",
   "execution_count": null,
   "id": "22f4cca8",
   "metadata": {},
   "outputs": [],
   "source": [
    "using ImageShow\n",
    "using StrangelyDisplayed\n",
    "using StrangelyQuantum"
   ]
  },
  {
   "cell_type": "markdown",
   "id": "ed848216",
   "metadata": {},
   "source": [
    "**Listing 5.2** constructs a circuit with two qubits. Each is activated on by a separate Hadamard gate, resulting in two independent qubits."
   ]
  },
  {
   "cell_type": "code",
   "execution_count": null,
   "id": "c3153405",
   "metadata": {},
   "outputs": [],
   "source": [
    "function quantum_coin()\n",
    "    # `results` collects the occurrences for the different\n",
    "    # possible outcomes.\n",
    "    results = zeros(Int, 4)\n",
    "    count = 1000\n",
    "    # Create a quantumExecutionEnvironment, and construct\n",
    "    # the program\n",
    "    simulator = SimpleQuantumExecutionEnvironment()\n",
    "    program = Program(2)\n",
    "    step1 = Step()\n",
    "    addGate(step1, Hadamard(1))\n",
    "    addGate(step1, Hadamard(2))\n",
    "    addStep(program, step1)\n",
    "    # Execute the program 1,000 times, and measure the results\n",
    "    for _ = 1:count\n",
    "        result = runProgram(simulator, program)\n",
    "        qubits = getQubits(result)\n",
    "        q1 = qubits[1]\n",
    "        q2 = qubits[2]\n",
    "        coinA = measure(q1) == 1\n",
    "        coinB = measure(q2) == 1\n",
    "        # Depending on the outcome, increment one of the counters\n",
    "        !coinA && !coinB && (results[1] += 1)\n",
    "        !coinA && coinB && (results[2] += 1)\n",
    "        coinA && !coinB && (results[3] += 1)\n",
    "        coinA && coinB && (results[4] += 1)\n",
    "    end\n",
    "    println(\"=======================================\")\n",
    "    println(\"We did \", count, \" experiments.\")\n",
    "    println(\"[AB]: 0 0 occurred \", results[1], \" times.\")\n",
    "    println(\"[AB]: 0 1 occurred \", results[2], \" times.\")\n",
    "    println(\"[AB]: 1 0 occurred \", results[3], \" times.\")\n",
    "    println(\"[AB]: 1 1 occurred \", results[4], \" times.\")\n",
    "    println(\"=======================================\")\n",
    "\n",
    "    return program\n",
    "end"
   ]
  },
  {
   "cell_type": "code",
   "execution_count": null,
   "id": "708e58cc",
   "metadata": {},
   "outputs": [],
   "source": [
    "program = quantum_coin();"
   ]
  },
  {
   "cell_type": "markdown",
   "id": "30e2d394",
   "metadata": {},
   "source": [
    "The quantum circuit looks like this:"
   ]
  },
  {
   "cell_type": "code",
   "execution_count": null,
   "id": "31fd2f72",
   "metadata": {},
   "outputs": [],
   "source": [
    "drawProgram(program)"
   ]
  },
  {
   "cell_type": "markdown",
   "id": "35dbb4d5",
   "metadata": {},
   "source": [
    "A histogram of trials looks like this (note that this is **not** the same set of trials as printed by `quantum_coin()`):"
   ]
  },
  {
   "cell_type": "code",
   "execution_count": null,
   "id": "66ec74ae",
   "metadata": {},
   "outputs": [],
   "source": [
    "drawTrialHistogram(program, 1000)"
   ]
  }
 ],
 "metadata": {
  "kernelspec": {
   "display_name": "Julia 1.9.0-beta2",
   "language": "julia",
   "name": "julia-1.9"
  },
  "language_info": {
   "file_extension": ".jl",
   "mimetype": "application/julia",
   "name": "julia",
   "version": "1.9.0"
  }
 },
 "nbformat": 4,
 "nbformat_minor": 5
}
