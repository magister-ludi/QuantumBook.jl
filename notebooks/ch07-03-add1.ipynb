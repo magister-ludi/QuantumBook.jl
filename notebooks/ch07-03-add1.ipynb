{
 "cells": [
  {
   "cell_type": "markdown",
   "id": "c590772c",
   "metadata": {},
   "source": [
    "# 7.6.2 Adding two qubits\n",
    "This example demonstrates a circuit for adding 2 qubits"
   ]
  },
  {
   "cell_type": "code",
   "execution_count": null,
   "id": "d59948cf",
   "metadata": {},
   "outputs": [],
   "source": [
    "using StrangelyQuantum"
   ]
  },
  {
   "cell_type": "markdown",
   "id": "0546f2dc",
   "metadata": {},
   "source": [
    "The following function represents an adder, which adds two bits, $a$ and $b$, and returns $|a+b|$:"
   ]
  },
  {
   "cell_type": "code",
   "execution_count": null,
   "id": "60cc6131",
   "metadata": {},
   "outputs": [],
   "source": [
    "function add(a, b)\n",
    "    # There are two qubits in this program. Initially, they hold the\n",
    "    # input values. After execution, the first qubit still has its\n",
    "    # original value, while the second qubit has the sum.\n",
    "    program = Program(2)\n",
    "    prep = Step()\n",
    "    # If a bit represents a 1, apply an X gate\n",
    "    a > 0 && addGate(prep, X(1))\n",
    "    b > 0 && addGate(prep, X(2))\n",
    "    step0 = Step(Cnot(1, 2))\n",
    "    addSteps(program, prep, step0)\n",
    "    qee = SimpleQuantumExecutionEnvironment()\n",
    "    result = runProgram(qee, program)\n",
    "    qubits = getQubits(result)\n",
    "    return measure(qubits[2])\n",
    "end"
   ]
  },
  {
   "cell_type": "markdown",
   "id": "3a2cedf9",
   "metadata": {},
   "source": [
    "Test all input values:"
   ]
  },
  {
   "cell_type": "code",
   "execution_count": null,
   "id": "56f0da6c",
   "metadata": {},
   "outputs": [],
   "source": [
    "function add_example1()\n",
    "    for i = 0:1\n",
    "        for j = 0:1\n",
    "            sum = add(i, j)\n",
    "            println(\"Adding \", i, \" + \", j, \" = \", sum)\n",
    "        end\n",
    "    end\n",
    "end"
   ]
  },
  {
   "cell_type": "code",
   "execution_count": null,
   "id": "5b2ae72e",
   "metadata": {},
   "outputs": [],
   "source": [
    "add_example1()"
   ]
  }
 ],
 "metadata": {
  "kernelspec": {
   "display_name": "Julia 1.9.0-beta2",
   "language": "julia",
   "name": "julia-1.9"
  },
  "language_info": {
   "file_extension": ".jl",
   "mimetype": "application/julia",
   "name": "julia",
   "version": "1.9.0"
  }
 },
 "nbformat": 4,
 "nbformat_minor": 5
}
