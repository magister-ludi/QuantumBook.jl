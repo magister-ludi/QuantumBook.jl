{
 "cells": [
  {
   "cell_type": "markdown",
   "id": "eb2cfa2a",
   "metadata": {},
   "source": [
    "### 7.6.3 Quantum arithmetic with a carry bit\n",
    "This example builds on top of the [quantum adder](ch07-03-add1.ipynb), and extends it with a carry bit."
   ]
  },
  {
   "cell_type": "code",
   "execution_count": null,
   "id": "e6bc0372",
   "metadata": {},
   "outputs": [],
   "source": [
    "using ImageShow\n",
    "using StrangelyDisplayed\n",
    "using StrangelyQuantum"
   ]
  },
  {
   "cell_type": "markdown",
   "id": "d055ef53",
   "metadata": {},
   "source": [
    "The next cell defines a method that constructs the `Program` to run:"
   ]
  },
  {
   "cell_type": "code",
   "execution_count": null,
   "id": "d1ee3063",
   "metadata": {},
   "outputs": [],
   "source": [
    "function add_w_carry_program(a, b)\n",
    "    # There are three qubits in this program. Initially, the\n",
    "    # first two hold the input values. The third qubit acts\n",
    "    # as a carry bit.\n",
    "    program = Program(3)\n",
    "    prep = Step()\n",
    "    # If a bit represents a 1, apply an X gate\n",
    "    a > 0 && addGate(prep, X(1))\n",
    "    b > 0 && addGate(prep, X(2))\n",
    "    # The Toffoli gate flips its third bit if the first\n",
    "    # and second bits are both 1\n",
    "    step0 = Step(Toffoli(1, 2, 3))\n",
    "    step1 = Step(Cnot(1, 2))\n",
    "    addSteps(program, prep, step0, step1)\n",
    "    return program\n",
    "end"
   ]
  },
  {
   "cell_type": "markdown",
   "id": "dd77dc0d",
   "metadata": {},
   "source": [
    "For $a=1$, $b=1$, the program looks like this:"
   ]
  },
  {
   "cell_type": "code",
   "execution_count": null,
   "id": "8fac4777",
   "metadata": {},
   "outputs": [],
   "source": [
    "drawProgram(add_w_carry_program(1, 1))"
   ]
  },
  {
   "cell_type": "markdown",
   "id": "69f59ef9",
   "metadata": {},
   "source": [
    "The next method runs the program for a given pair of input values, and returns the result of the addition:"
   ]
  },
  {
   "cell_type": "code",
   "execution_count": null,
   "id": "60b36dad",
   "metadata": {},
   "outputs": [],
   "source": [
    "function add_w_carry(a, b)\n",
    "    program = add_w_carry_program(a, b)\n",
    "    qee = SimpleQuantumExecutionEnvironment()\n",
    "    result = runProgram(qee, program)\n",
    "    qubits = getQubits(result)\n",
    "    return measure(qubits[2]) + (measure(qubits[3]) << 1)\n",
    "end"
   ]
  },
  {
   "cell_type": "markdown",
   "id": "ab52f3a3",
   "metadata": {},
   "source": [
    "Test all input values$\\ldots$"
   ]
  },
  {
   "cell_type": "code",
   "execution_count": null,
   "id": "683274c4",
   "metadata": {},
   "outputs": [],
   "source": [
    "function add_example2()\n",
    "    for i = 0:1\n",
    "        for j = 0:1\n",
    "            sum = add_w_carry(i, j)\n",
    "            println(\"Adding \", i, \" + \", j, \" = \", sum)\n",
    "        end\n",
    "    end\n",
    "end"
   ]
  },
  {
   "cell_type": "markdown",
   "id": "edf73c3e",
   "metadata": {},
   "source": [
    "$\\ldots$with the result"
   ]
  },
  {
   "cell_type": "code",
   "execution_count": null,
   "id": "31f1c7ec",
   "metadata": {},
   "outputs": [],
   "source": [
    "add_example2()"
   ]
  }
 ],
 "metadata": {
  "kernelspec": {
   "display_name": "Julia 1.9.0-beta2",
   "language": "julia",
   "name": "julia-1.9"
  },
  "language_info": {
   "file_extension": ".jl",
   "mimetype": "application/julia",
   "name": "julia",
   "version": "1.9.0"
  }
 },
 "nbformat": 4,
 "nbformat_minor": 5
}
