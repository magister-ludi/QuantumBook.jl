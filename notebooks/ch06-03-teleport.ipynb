{
 "cells": [
  {
   "cell_type": "markdown",
   "id": "32cc2d66",
   "metadata": {},
   "source": [
    "## 6.4 Quantum teleportation\n",
    "In this example, we send a qubit from Alice to Bob.\n",
    "Alice holds qubits `q[1]` and `q[2]` while bob has `q[3]`. As you can see from the circuit, `q[2]` and `q[3]` are entangled."
   ]
  },
  {
   "cell_type": "code",
   "execution_count": null,
   "id": "b8f8d0c5",
   "metadata": {},
   "outputs": [],
   "source": [
    "using ImageShow\n",
    "using StrangelyDisplayed\n",
    "using StrangelyQuantum"
   ]
  },
  {
   "cell_type": "markdown",
   "id": "b94b34c5",
   "metadata": {},
   "source": [
    "`qteleport` is the equivalent of **Listing 6.2**. It takes a boolean argument. If that is `true`,\n",
    "an X Gate is added to `q[1]`. In either case, `q[2]` will have the same value as the original `q[1]`.\n",
    "\n",
    "The value from Alice's qubit is thus \"teleported\" to Bob."
   ]
  },
  {
   "cell_type": "code",
   "execution_count": null,
   "id": "95bfffd1",
   "metadata": {},
   "outputs": [],
   "source": [
    "function qteleport(init::Bool)\n",
    "    simulator = SimpleQuantumExecutionEnvironment()\n",
    "    program = Program(3)\n",
    "    # if init is true, set the first bit to 1\n",
    "    if init\n",
    "        step0 = Step()\n",
    "        addGate(step0, X(1))\n",
    "        addStep(program, step0)\n",
    "    end\n",
    "    step1 = Step()\n",
    "    addGate(step1, Hadamard(2))\n",
    "    step2 = Step()\n",
    "    addGate(step2, Cnot(2, 3))\n",
    "    step3 = Step()\n",
    "    addGate(step3, Cnot(1, 2))\n",
    "    step4 = Step()\n",
    "    addGate(step4, Hadamard(1))\n",
    "    step5 = Step()\n",
    "    addGate(step5, Measurement(1))\n",
    "    addGate(step5, Measurement(2))\n",
    "    # If qubit q[2] is measured as 1, apply a Pauli-X gate to q[3]\n",
    "    step6 = Step()\n",
    "    addGate(step6, Cnot(2, 3))\n",
    "    # If qubit q[1] is measured as 1, apply a Pauli-X gate to q[3]\n",
    "    step7 = Step()\n",
    "    addGate(step7, Cz(1, 3))\n",
    "    addStep(program, step1)\n",
    "    addStep(program, step2)\n",
    "    addStep(program, step3)\n",
    "    addStep(program, step4)\n",
    "    addStep(program, step5)\n",
    "    addStep(program, step6)\n",
    "    addStep(program, step7)\n",
    "    result = runProgram(simulator, program)\n",
    "    qubits = getQubits(result)\n",
    "    q3 = qubits[3]\n",
    "    v3 = measure(q3)\n",
    "    println(\"sent: \", Int(init), \", received: \", v3)\n",
    "    return program\n",
    "end"
   ]
  },
  {
   "cell_type": "markdown",
   "id": "35cec8f2",
   "metadata": {},
   "source": [
    "First, set `q[1]` to `0`:"
   ]
  },
  {
   "cell_type": "code",
   "execution_count": null,
   "id": "2deab293",
   "metadata": {},
   "outputs": [],
   "source": [
    "program0 = qteleport(false);"
   ]
  },
  {
   "cell_type": "code",
   "execution_count": null,
   "id": "f842a056",
   "metadata": {},
   "outputs": [],
   "source": [
    "drawProgram(program0)"
   ]
  },
  {
   "cell_type": "code",
   "execution_count": null,
   "id": "e9280996",
   "metadata": {},
   "outputs": [],
   "source": [
    "drawTrialHistogram(program0, 1000)"
   ]
  },
  {
   "cell_type": "markdown",
   "id": "366ccd0b",
   "metadata": {},
   "source": [
    "The final value of `q[3]` (the *first* digit of the label) is always `0`."
   ]
  },
  {
   "cell_type": "markdown",
   "id": "49508f3a",
   "metadata": {},
   "source": [
    "**Exercise 6.2**: Now initialise `q[1]` to `1`:"
   ]
  },
  {
   "cell_type": "code",
   "execution_count": null,
   "id": "98a88716",
   "metadata": {},
   "outputs": [],
   "source": [
    "program1 = qteleport(true);"
   ]
  },
  {
   "cell_type": "code",
   "execution_count": null,
   "id": "f426e89f",
   "metadata": {},
   "outputs": [],
   "source": [
    "drawProgram(program1)"
   ]
  },
  {
   "cell_type": "code",
   "execution_count": null,
   "id": "d4a8ddcf",
   "metadata": {},
   "outputs": [],
   "source": [
    "drawTrialHistogram(program1, 1000)"
   ]
  },
  {
   "cell_type": "markdown",
   "id": "bf7c2afb",
   "metadata": {},
   "source": [
    "This time, the final value of `q[3]` is always `1`."
   ]
  }
 ],
 "metadata": {
  "kernelspec": {
   "display_name": "Julia 1.9.0-beta2",
   "language": "julia",
   "name": "julia-1.9"
  },
  "language_info": {
   "file_extension": ".jl",
   "mimetype": "application/julia",
   "name": "julia",
   "version": "1.9.0"
  }
 },
 "nbformat": 4,
 "nbformat_minor": 5
}
