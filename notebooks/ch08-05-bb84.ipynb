{
 "cells": [
  {
   "cell_type": "markdown",
   "id": "4496d186",
   "metadata": {},
   "source": [
    "## 8.6 Quantum Key Distribution using StrangelyQuantum\n",
    "This example demonstrates the BB84 algorithm for QKD."
   ]
  },
  {
   "cell_type": "code",
   "execution_count": null,
   "id": "8cee7500",
   "metadata": {},
   "outputs": [],
   "source": [
    "using ImageShow\n",
    "using Random\n",
    "using StrangelyDisplayed\n",
    "using StrangelyQuantum"
   ]
  },
  {
   "cell_type": "markdown",
   "id": "304987f5",
   "metadata": {},
   "source": [
    "In this algorithm, the sender chooses a random key (in this example, 8 bits long) and a random set of base bits with the same length. The receiver also chooses a random set of base bits (again with the same length).\n",
    "\n",
    "The sender sends the qubits, setting them to 0 or 1 according to the key. The sender applies a Hadamard gate to qubits if the corresponding base bit is 1.\n",
    "\n",
    "The receiver applies a Hadamard gate to received bits for which the receiver's corresponding base bits are 1. The message has be sent and received, but not yet decrypted.\n",
    "\n",
    "The sender can now inform the receiver (even using an open channel) of the sender's base bits. The receiver knows now that if a sender's base bit matches the corresponding receiver's base bit, that the measured value of the message bit is valid."
   ]
  },
  {
   "cell_type": "code",
   "execution_count": null,
   "id": "73558f5a",
   "metadata": {},
   "outputs": [],
   "source": [
    "function bb84()\n",
    "    # Alice and Bob will exchange SIZE qubits, hence the resulting\n",
    "    # key will be maximum SIZE bits.\n",
    "    SIZE = 8\n",
    "    random = Xoshiro()\n",
    "\n",
    "    aliceBits = Vector{Bool}(undef, SIZE)  # random bits chosen by Alice\n",
    "    bobBits = Vector{Bool}(undef, SIZE)  # bits measured by Bob\n",
    "    aliceBase = Vector{Bool}(undef, SIZE) # random bases chosen by Alice\n",
    "    bobBase = Vector{Bool}(undef, SIZE) # random bases chosen by Bob\n",
    "\n",
    "    simulator = SimpleQuantumExecutionEnvironment()\n",
    "    program = Program(SIZE)\n",
    "    prepareStep = Step()\n",
    "    superPositionStep = Step()\n",
    "    superPositionStep2 = Step()\n",
    "    measureStep = Step()\n",
    "\n",
    "    for i = 1:SIZE\n",
    "        aliceBits[i] = rand(random, Bool)\n",
    "        # if Alice's bit is 1, apply a X gate to the |0> state\n",
    "        aliceBits[i] && addGate(prepareStep, X(i))\n",
    "        aliceBase[i] = rand(random, Bool)\n",
    "        # if Alice's base for this bit is 1, apply a H gate\n",
    "        aliceBase[i] && addGate(superPositionStep, Hadamard(i))\n",
    "        bobBase[i] = rand(random, Bool)\n",
    "        # if Bob decides to measure in base 1, apply a H gate\n",
    "        bobBase[i] && addGate(superPositionStep2, Hadamard(i))\n",
    "        # Finally, Bob measures the result\n",
    "        addGate(measureStep, Measurement(i))\n",
    "    end\n",
    "\n",
    "    addStep(program, prepareStep)\n",
    "    addStep(program, superPositionStep)\n",
    "    addStep(program, superPositionStep2)\n",
    "    addStep(program, measureStep)\n",
    "\n",
    "    result = runProgram(simulator, program)\n",
    "    qubit = getQubits(result)\n",
    "\n",
    "    measurement = Vector{Int}(undef, SIZE)\n",
    "    key = IOBuffer()\n",
    "    for i = 1:SIZE\n",
    "        measurement[i] = measure(qubit[i])\n",
    "        bobBits[i] = measurement[i] == 1\n",
    "        if aliceBase[i] != bobBase[i]\n",
    "            # If the random bases chosen by Alice and Bob for this bit\n",
    "            # are different, ignore values\n",
    "            println(\"Different bases used, ignore values.\")\n",
    "        else\n",
    "            # Alice and Bob picked the same bases. The inital value from\n",
    "            # Alice matches the measurement from Bob.\n",
    "            # this bit now becomes part of the secret key\n",
    "            println(\n",
    "                \"Same bases used. Alice sent \",\n",
    "                aliceBits[i] ? '1' : '0',\n",
    "                \" and Bob received \",\n",
    "                bobBits[i] ? '1' : '0',\n",
    "            )\n",
    "            print(key, aliceBits[i] ? \"1\" : \"0\")\n",
    "        end\n",
    "    end\n",
    "    println(\"Secret key = \", String(take!(key)))\n",
    "\n",
    "    return program\n",
    "end"
   ]
  },
  {
   "cell_type": "code",
   "execution_count": null,
   "id": "82e2b8b4",
   "metadata": {},
   "outputs": [],
   "source": [
    "program = bb84()"
   ]
  },
  {
   "cell_type": "code",
   "execution_count": null,
   "id": "4cf821bd",
   "metadata": {
    "scrolled": true
   },
   "outputs": [],
   "source": [
    "drawProgram(program)"
   ]
  },
  {
   "cell_type": "markdown",
   "id": "eba2e9aa",
   "metadata": {},
   "source": [
    "As in the [previous example](ch08-04-guess.ipynb) the correct values are measured if either zero or two Hadamard gates are applied. In this case communication between sender and receiver can establish which values are the correct ones, without disclosing the values."
   ]
  }
 ],
 "metadata": {
  "kernelspec": {
   "display_name": "Julia 1.9.0-beta2",
   "language": "julia",
   "name": "julia-1.9"
  },
  "language_info": {
   "file_extension": ".jl",
   "mimetype": "application/julia",
   "name": "julia",
   "version": "1.9.0"
  }
 },
 "nbformat": 4,
 "nbformat_minor": 5
}
