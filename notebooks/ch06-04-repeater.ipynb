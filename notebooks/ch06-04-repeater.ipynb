{
 "cells": [
  {
   "cell_type": "markdown",
   "id": "47854f39",
   "metadata": {},
   "source": [
    "## 6.5 A quantum repeater\n",
    "This example extends quantum teleportation over a number of nodes, that can act as a quantum repeater."
   ]
  },
  {
   "cell_type": "code",
   "execution_count": null,
   "id": "1e1619d4",
   "metadata": {},
   "outputs": [],
   "source": [
    "using ImageShow\n",
    "using StrangelyDisplayed\n",
    "using StrangelyQuantum"
   ]
  },
  {
   "cell_type": "markdown",
   "id": "bbcd0fc9",
   "metadata": {},
   "source": [
    "The method `qrepeater` has two aguments:\n",
    " - `p` ($0 \\le p \\le 1$) is the probability density that `q[1]` is `1`\n",
    " - `init` is a `Bool` to detemine whether to apply a Pauli X gate to `q[1]`."
   ]
  },
  {
   "cell_type": "code",
   "execution_count": null,
   "id": "6da47c27",
   "metadata": {},
   "outputs": [],
   "source": [
    "function qrepeater(p, init)\n",
    "    @assert 0 ≤ p ≤ 1\n",
    "    simulator = SimpleQuantumExecutionEnvironment()\n",
    "    program = Program(5)\n",
    "    # randomly choose whether to set the first bit to 1\n",
    "    r = rand(Bool)\n",
    "\n",
    "    # The first steps are the same as in the teleport example\n",
    "    # if init is true, set the first bit to 1\n",
    "    if init\n",
    "        step0 = Step()\n",
    "        addGate(step0, X(1))\n",
    "        addStep(program, step0)\n",
    "    end\n",
    "    step1 = Step()\n",
    "    addGate(step1, Hadamard(2))\n",
    "    addGate(step1, Hadamard(4))\n",
    "    step2 = Step()\n",
    "    addGate(step2, Cnot(2, 3))\n",
    "    addGate(step2, Cnot(4, 5))\n",
    "    step3 = Step()\n",
    "    addGate(step3, Cnot(1, 2))\n",
    "    step4 = Step()\n",
    "    addGate(step4, Hadamard(1))\n",
    "    step5 = Step()\n",
    "    addGate(step5, Measurement(1))\n",
    "    addGate(step5, Measurement(2))\n",
    "    step6 = Step()\n",
    "    addGate(step6, Cnot(2, 3))\n",
    "    step7 = Step()\n",
    "    addGate(step7, Cz(1, 3))\n",
    "\n",
    "    # The following steps represent the repeater element\n",
    "    step8 = Step()\n",
    "    addGate(step8, Cnot(3, 4))\n",
    "    step9 = Step()\n",
    "    addGate(step9, Hadamard(3))\n",
    "    step10 = Step()\n",
    "    addGate(step10, Measurement(3))\n",
    "    addGate(step10, Measurement(4))\n",
    "    step11 = Step()\n",
    "    addGate(step11, Cnot(4, 5))\n",
    "    step12 = Step()\n",
    "    addGate(step12, Cz(3, 5))\n",
    "    addStep(program, step1)\n",
    "    addStep(program, step2)\n",
    "    addStep(program, step3)\n",
    "    addStep(program, step4)\n",
    "    addStep(program, step5)\n",
    "    addStep(program, step6)\n",
    "    addStep(program, step7)\n",
    "    addStep(program, step8)\n",
    "    addStep(program, step9)\n",
    "    addStep(program, step10)\n",
    "    addStep(program, step11)\n",
    "    addStep(program, step12)\n",
    "    initializeQubit(program, 1, p)\n",
    "    result = runProgram(simulator, program)\n",
    "    qubits = getQubits(result)\n",
    "    q3 = qubits[3]\n",
    "    v3 = measure(q3)\n",
    "    println(\"sent: \", Int(init), \", received: \", v3)\n",
    "    return program\n",
    "end"
   ]
  },
  {
   "cell_type": "markdown",
   "id": "68090a6c",
   "metadata": {},
   "source": [
    "As in **Setion 6.5**, we set `p = 0.4`. We execute `qrepeater` with `init = false`:"
   ]
  },
  {
   "cell_type": "code",
   "execution_count": null,
   "id": "b70000a8",
   "metadata": {},
   "outputs": [],
   "source": [
    "program0 = qrepeater(0.4, false);"
   ]
  },
  {
   "cell_type": "code",
   "execution_count": null,
   "id": "a9987b2a",
   "metadata": {},
   "outputs": [],
   "source": [
    "drawProgram(program0)"
   ]
  },
  {
   "cell_type": "code",
   "execution_count": null,
   "id": "59879380",
   "metadata": {},
   "outputs": [],
   "source": [
    "drawTrialHistogram(program0, 1000)"
   ]
  },
  {
   "cell_type": "markdown",
   "id": "65631c44",
   "metadata": {},
   "source": [
    "Inspection of the imges shows that there is an 84% chance that a `1` is received:\n",
    "$$0.84=1-0.4^2$$."
   ]
  },
  {
   "cell_type": "markdown",
   "id": "b906b638",
   "metadata": {},
   "source": [
    "With the same value of `p`, but with `init = true`, we get"
   ]
  },
  {
   "cell_type": "code",
   "execution_count": null,
   "id": "236988ca",
   "metadata": {},
   "outputs": [],
   "source": [
    "program1 = qrepeater(0.4, true);"
   ]
  },
  {
   "cell_type": "code",
   "execution_count": null,
   "id": "ba2b64b5",
   "metadata": {},
   "outputs": [],
   "source": [
    "drawProgram(program1)"
   ]
  },
  {
   "cell_type": "code",
   "execution_count": null,
   "id": "43d6dd16",
   "metadata": {},
   "outputs": [],
   "source": [
    "drawTrialHistogram(program1, 1000)"
   ]
  },
  {
   "cell_type": "markdown",
   "id": "0cc96798",
   "metadata": {},
   "source": [
    "Now we see that there is a 16% chance that a `1` is received:\n",
    "$$0.16=0.4^2$$."
   ]
  }
 ],
 "metadata": {
  "kernelspec": {
   "display_name": "Julia 1.9.0-beta2",
   "language": "julia",
   "name": "julia-1.9"
  },
  "language_info": {
   "file_extension": ".jl",
   "mimetype": "application/julia",
   "name": "julia",
   "version": "1.9.0"
  }
 },
 "nbformat": 4,
 "nbformat_minor": 5
}
