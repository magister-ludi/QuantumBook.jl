{
 "cells": [
  {
   "cell_type": "markdown",
   "id": "fe9928b0",
   "metadata": {},
   "source": [
    "### Extension\n",
    "A Hadamard gate is reversible, so that applying two Hadamard gates consecutively should produce the original value of the input qubit."
   ]
  },
  {
   "cell_type": "code",
   "execution_count": null,
   "id": "f738bc5e",
   "metadata": {},
   "outputs": [],
   "source": [
    "using ImageShow\n",
    "using StrangelyDisplayed\n",
    "using StrangelyQuantum"
   ]
  },
  {
   "cell_type": "markdown",
   "id": "31f4f24d",
   "metadata": {},
   "source": [
    " The following code counts outputs after consecutive application of two Hadamard gates:"
   ]
  },
  {
   "cell_type": "code",
   "execution_count": null,
   "id": "81cde7da",
   "metadata": {},
   "outputs": [],
   "source": [
    "function hadamard2_example()\n",
    "    simulator = SimpleQuantumExecutionEnvironment()\n",
    "    program = Program(1)\n",
    "    step = Step()\n",
    "    # add a Hadamard gate as in earlier examples\n",
    "    addGate(step, Hadamard(1))\n",
    "    addStep(program, step)\n",
    "    step2 = Step()\n",
    "    # add a second Hadamard gate acting on the output of the first\n",
    "    addGate(step2, Hadamard(1))\n",
    "    addStep(program, step2)\n",
    "    cntZero = 0\n",
    "    cntOne = 0\n",
    "    for _ = 1:1000\n",
    "        result = runProgram(simulator, program)\n",
    "        qubits = getQubits(result)\n",
    "        q1 = qubits[1]\n",
    "        value = measure(q1)\n",
    "        value == 0 && (cntZero += 1)\n",
    "        value == 1 && (cntOne += 1)\n",
    "    end\n",
    "    println(\n",
    "        \"Applied H-H circuit and evaluated 1000 times, got \",\n",
    "        cntZero,\n",
    "        \" zeros and \",\n",
    "        cntOne,\n",
    "        \" ones.\",\n",
    "    )\n",
    "    return program\n",
    "end"
   ]
  },
  {
   "cell_type": "code",
   "execution_count": null,
   "id": "a448e413",
   "metadata": {},
   "outputs": [],
   "source": [
    "program = hadamard2_example()"
   ]
  },
  {
   "cell_type": "code",
   "execution_count": null,
   "id": "3949d4fa",
   "metadata": {},
   "outputs": [],
   "source": [
    "drawProgram(program)"
   ]
  }
 ],
 "metadata": {
  "kernelspec": {
   "display_name": "Julia 1.9.0-beta2",
   "language": "julia",
   "name": "julia-1.9"
  },
  "language_info": {
   "file_extension": ".jl",
   "mimetype": "application/julia",
   "name": "julia",
   "version": "1.9.0"
  }
 },
 "nbformat": 4,
 "nbformat_minor": 5
}
