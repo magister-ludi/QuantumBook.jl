{
 "cells": [
  {
   "cell_type": "markdown",
   "id": "b60e9dbe",
   "metadata": {},
   "source": [
    "### 5.5.2 CNot gate\n",
    "A demonstration of applying a CNot gate to basic quantum states."
   ]
  },
  {
   "cell_type": "code",
   "execution_count": null,
   "id": "63e90cd2",
   "metadata": {},
   "outputs": [],
   "source": [
    "using ImageShow\n",
    "using StrangelyDisplayed\n",
    "using StrangelyQuantum"
   ]
  },
  {
   "cell_type": "markdown",
   "id": "3841270e",
   "metadata": {},
   "source": [
    "Here is a method that constructs a quantum circuit with two qubits. Depending on the input parameters, the initial state of the qubits is 0 (`false`) or 1 (`true`)."
   ]
  },
  {
   "cell_type": "code",
   "execution_count": null,
   "id": "59cdeb67",
   "metadata": {},
   "outputs": [],
   "source": [
    "function cnot_demo(qubit1, qubit2)\n",
    "    simulator = SimpleQuantumExecutionEnvironment()\n",
    "    program = Program(2)\n",
    "    step1 = Step()\n",
    "    # Apply a Pauli-X gate to a qubit if its\n",
    "    # initial state should be 1\n",
    "    qubit1 && addGate(step1, X(1))\n",
    "    qubit2 && addGate(step1, X(2))\n",
    "    addStep(program, step1)\n",
    "    step2 = Step()\n",
    "    # Add a CNot gate to the second step in the program. Because the\n",
    "    # CNot gate operates on two qubits, we need to specify which ones. So,\n",
    "    # the CNot constructor takes two arguments: the control qubit (in\n",
    "    # this case, the first one) and the target qubit (the second one).\n",
    "    addGate(step2, Cnot(1, 2))\n",
    "    addStep(program, step2)\n",
    "    result = runProgram(simulator, program)\n",
    "    qubits = getQubits(result)\n",
    "    q1 = qubits[1]\n",
    "    q2 = qubits[2]\n",
    "    v1 = measure(q1)\n",
    "    v2 = measure(q2)\n",
    "    println(\"IN = |11>\\tOUT= |\", v2, \"\", v1, \">\")\n",
    "\n",
    "    return program\n",
    "end"
   ]
  },
  {
   "cell_type": "markdown",
   "id": "a8798b09",
   "metadata": {},
   "source": [
    "In the cells below, `cnot_demo()` is called with all possible combinations for initialising the two starting qubits. The resulting circuits and sample histograms are displayed."
   ]
  },
  {
   "cell_type": "code",
   "execution_count": null,
   "id": "e32fb1ed",
   "metadata": {},
   "outputs": [],
   "source": [
    "program00 = cnot_demo(false, false);"
   ]
  },
  {
   "cell_type": "code",
   "execution_count": null,
   "id": "91aec24d",
   "metadata": {},
   "outputs": [],
   "source": [
    "drawProgram(program00)"
   ]
  },
  {
   "cell_type": "code",
   "execution_count": null,
   "id": "b5335587",
   "metadata": {},
   "outputs": [],
   "source": [
    "drawTrialHistogram(program00, 1000)"
   ]
  },
  {
   "cell_type": "code",
   "execution_count": null,
   "id": "8766e6c8",
   "metadata": {},
   "outputs": [],
   "source": [
    "program01 = cnot_demo(false, true);"
   ]
  },
  {
   "cell_type": "code",
   "execution_count": null,
   "id": "6961d101",
   "metadata": {},
   "outputs": [],
   "source": [
    "drawProgram(program01)"
   ]
  },
  {
   "cell_type": "code",
   "execution_count": null,
   "id": "9315a122",
   "metadata": {},
   "outputs": [],
   "source": [
    "drawTrialHistogram(program01, 1000)"
   ]
  },
  {
   "cell_type": "code",
   "execution_count": null,
   "id": "5fa3c65b",
   "metadata": {},
   "outputs": [],
   "source": [
    "program10 = cnot_demo(true, false);"
   ]
  },
  {
   "cell_type": "code",
   "execution_count": null,
   "id": "f8c49457",
   "metadata": {},
   "outputs": [],
   "source": [
    "drawProgram(program10)"
   ]
  },
  {
   "cell_type": "code",
   "execution_count": null,
   "id": "54e1789d",
   "metadata": {},
   "outputs": [],
   "source": [
    "drawTrialHistogram(program10, 1000)"
   ]
  },
  {
   "cell_type": "code",
   "execution_count": null,
   "id": "19fbe41d",
   "metadata": {},
   "outputs": [],
   "source": [
    "program11 = cnot_demo(true, true);"
   ]
  },
  {
   "cell_type": "code",
   "execution_count": null,
   "id": "7d17acf6",
   "metadata": {},
   "outputs": [],
   "source": [
    "drawProgram(program11)"
   ]
  },
  {
   "cell_type": "code",
   "execution_count": null,
   "id": "e3044e48",
   "metadata": {},
   "outputs": [],
   "source": [
    "drawTrialHistogram(program11, 1000)"
   ]
  }
 ],
 "metadata": {
  "kernelspec": {
   "display_name": "Julia 1.9.0-beta2",
   "language": "julia",
   "name": "julia-1.9"
  },
  "language_info": {
   "file_extension": ".jl",
   "mimetype": "application/julia",
   "name": "julia",
   "version": "1.9.0"
  }
 },
 "nbformat": 4,
 "nbformat_minor": 5
}
