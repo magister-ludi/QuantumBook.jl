{
 "cells": [
  {
   "cell_type": "markdown",
   "id": "b98f225a",
   "metadata": {},
   "source": [
    "### 11.6.2 Solving a different problem\n",
    "This example translates the factorization problem to a problem where we have to find the periodicity of a function. Everything is implemented in a classic way, but it lays out the framework for the quantum implementation in the [next example](ch11-03-quantumfactor.ipynb)."
   ]
  },
  {
   "cell_type": "code",
   "execution_count": null,
   "id": "53754d56",
   "metadata": {},
   "outputs": [],
   "source": [
    "using Random"
   ]
  },
  {
   "cell_type": "markdown",
   "id": "3d596577",
   "metadata": {},
   "source": [
    "**Listing 11.2** gives a factorisation function that uses period finding using classic methods:"
   ]
  },
  {
   "cell_type": "code",
   "execution_count": null,
   "id": "1e838250",
   "metadata": {},
   "outputs": [],
   "source": [
    "function factorise(n::Integer)\n",
    "    # PREPROCESSING\n",
    "    # Here, the preprocessing part begins.\n",
    "    println(\"We need to factor \", n)\n",
    "\n",
    "    # Pick a random number `a` between 1 and `n`\n",
    "    a = rand(1:n-1)\n",
    "    println(\"--\\nPick a random number 1 ≤ a < $n: \", a)\n",
    "\n",
    "    # Calculate the greatest common denominator (GCD) between `a` and `n`\n",
    "    gcdan = gcd(n, a)\n",
    "    println(\"calculate gcd(a, n): \", gcdan)\n",
    "\n",
    "    # In case this GCD is not `1`, we are done, since that means the GCD is a factor of `n`\n",
    "    gcdan != 1 && return gcdan\n",
    "\n",
    "    # Find the periodicity of the modular exponentiatio function.\n",
    "    p = findPeriod(a, n)\n",
    "    println(\"period of f = \", p)\n",
    "    if isodd(p)\n",
    "        # If the period turns out to be an odd number, we can't use it and have to repeat the process\n",
    "        println(\"bummer, odd period, restart.\")\n",
    "        return -1\n",
    "    end\n",
    "    # Perform some minor mathematical operations on the period to obtain a factor of `n`.\n",
    "    md = 1\n",
    "    for i = 1:(p ÷ 2)\n",
    "        md = (md * a) % n\n",
    "    end\n",
    "    md = md + 1\n",
    "    m2 = md % n\n",
    "    if m2 == 0\n",
    "        println(\"bummer, m^p/2 + 1 = 0 mod n, restart\")\n",
    "        return -1\n",
    "    end\n",
    "    factor = gcd(n, md)\n",
    "    return factor\n",
    "end"
   ]
  },
  {
   "cell_type": "markdown",
   "id": "eb8ce94b",
   "metadata": {},
   "source": [
    "The period finding function (**Listing 11.3**) is:"
   ]
  },
  {
   "cell_type": "code",
   "execution_count": null,
   "id": "628b70fa",
   "metadata": {},
   "outputs": [],
   "source": [
    "function findPeriod(a::Integer, n::Integer)\n",
    "    r = 1\n",
    "    bn = big(n)\n",
    "    bi = big(a)\n",
    "    mp = Int64(bi^r % n)\n",
    "    while mp != 1\n",
    "        r += 1\n",
    "        mpd = bi^r\n",
    "        mpb = mod(mpd, bn)\n",
    "        mp = Int64(mpb)\n",
    "    end\n",
    "    return r\n",
    "end"
   ]
  },
  {
   "cell_type": "markdown",
   "id": "5fbc2f18",
   "metadata": {},
   "source": [
    "Test the factorisation:"
   ]
  },
  {
   "cell_type": "code",
   "execution_count": null,
   "id": "f94441ae",
   "metadata": {},
   "outputs": [],
   "source": [
    "maxtries = 100\n",
    "target = rand(0:9999)\n",
    "cnt = 0\n",
    "f = -1\n",
    "while cnt < maxtries\n",
    "    f = factorise(target)\n",
    "    f > 0 && break\n",
    "    cnt += 1\n",
    "end\n",
    "if cnt < maxtries\n",
    "    println(\"Factored \", target, \" in \", f, \" and \", target ÷ f)\n",
    "else\n",
    "    println(\n",
    "        \"Failed to factor \",\n",
    "        target,\n",
    "        \" after \",\n",
    "        maxtries,\n",
    "        \" tries. Might be a prime number?\",\n",
    "    )\n",
    "end"
   ]
  }
 ],
 "metadata": {
  "kernelspec": {
   "display_name": "Julia 1.9.0-beta2",
   "language": "julia",
   "name": "julia-1.9"
  },
  "language_info": {
   "file_extension": ".jl",
   "mimetype": "application/julia",
   "name": "julia",
   "version": "1.9.0"
  }
 },
 "nbformat": 4,
 "nbformat_minor": 5
}
