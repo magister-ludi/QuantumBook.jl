{
 "cells": [
  {
   "cell_type": "markdown",
   "id": "d1e733f5",
   "metadata": {},
   "source": [
    "## 11.5 Problem description\n",
    "A very basic classic factorisation algorithm."
   ]
  },
  {
   "cell_type": "code",
   "execution_count": null,
   "id": "af929cff",
   "metadata": {},
   "outputs": [],
   "source": [
    "using Random"
   ]
  },
  {
   "cell_type": "markdown",
   "id": "c1537da1",
   "metadata": {},
   "source": [
    "A search for factors of a given number (**Listing 11.1**):"
   ]
  },
  {
   "cell_type": "code",
   "execution_count": null,
   "id": "ea5f1e57",
   "metadata": {},
   "outputs": [],
   "source": [
    "function factor(n::Integer)\n",
    "    i = 1\n",
    "    # Check all numbers up to the square root of n\n",
    "    maxtest = isqrt(n)\n",
    "    while i < maxtest\n",
    "        i += 1\n",
    "        # if i is a factor, return it\n",
    "        n % i == 0 && return i\n",
    "    end\n",
    "    # Nothing else found? Return n\n",
    "    return n\n",
    "end"
   ]
  },
  {
   "cell_type": "markdown",
   "id": "8b692b27",
   "metadata": {},
   "source": [
    "Test the factorisation:"
   ]
  },
  {
   "cell_type": "code",
   "execution_count": null,
   "id": "095a3271",
   "metadata": {},
   "outputs": [],
   "source": [
    "for _ in 1:10\n",
    "    target = rand(0:9999)\n",
    "    f = factor(target)\n",
    "    f2 = target ÷ f\n",
    "    println(\"Factored \", target, \" in \", f, \" and \", f2,\n",
    "            \" (\", f*f2==target,\")\")\n",
    "end"
   ]
  }
 ],
 "metadata": {
  "kernelspec": {
   "display_name": "Julia 1.9.0-beta2",
   "language": "julia",
   "name": "julia-1.9"
  },
  "language_info": {
   "file_extension": ".jl",
   "mimetype": "application/julia",
   "name": "julia",
   "version": "1.9.0"
  }
 },
 "nbformat": 4,
 "nbformat_minor": 5
}
