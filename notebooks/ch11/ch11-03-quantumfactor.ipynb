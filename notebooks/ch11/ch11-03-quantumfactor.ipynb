{
 "cells": [
  {
   "cell_type": "markdown",
   "id": "d9abfab3",
   "metadata": {},
   "source": [
    "## 11.7 The quantum-based implementation\n",
    "This example uses `StrangelyQuantum`'s API to create a quantum circuit that finds the periodicity of a function using quantum gates. The [previous example](ch11-02-semiclassicfactor.ipynb) showed how period finding corresponds to integer factorization. `Classic.qfactor` uses the same algorithm."
   ]
  },
  {
   "cell_type": "code",
   "execution_count": null,
   "id": "fe1071f4",
   "metadata": {},
   "outputs": [],
   "source": [
    "using StrangelyQuantum"
   ]
  },
  {
   "cell_type": "markdown",
   "id": "2a7f305e",
   "metadata": {},
   "source": [
    "The details of the algorithm are described in Chapter 11 of [Quantum Computing in Action](https://www.manning.com/books/quantum-computing-in-action). The code can be examined in the [Julia implementation](https://github.com/magister-ludi/StrangelyQuantum.jl/blob/main/src/algorithm/classic.jl) or the original [Java implementation](https://github.com/redfx-quantum/strange/blob/master/src/main/java/org/redfx/strange/algorithm/Classic.java).\n",
    "\n",
    "Note that the implementations are *simulations* of quantum gates, and are classical programs. For factorisation of large numbers, they are actually very slow."
   ]
  },
  {
   "cell_type": "code",
   "execution_count": null,
   "id": "2522871f",
   "metadata": {},
   "outputs": [],
   "source": [
    "function test_quantum_factor()\n",
    "    target = 15\n",
    "    f = Classic.qfactor(target)\n",
    "    println(\"Factored \", target, \" in \", f, \" and \", target ÷ f)\n",
    "end"
   ]
  },
  {
   "cell_type": "code",
   "execution_count": null,
   "id": "4e4b9210",
   "metadata": {},
   "outputs": [],
   "source": [
    "test_quantum_factor()"
   ]
  }
 ],
 "metadata": {
  "kernelspec": {
   "display_name": "Julia 1.9.0-beta2",
   "language": "julia",
   "name": "julia-1.9"
  },
  "language_info": {
   "file_extension": ".jl",
   "mimetype": "application/julia",
   "name": "julia",
   "version": "1.9.0"
  }
 },
 "nbformat": 4,
 "nbformat_minor": 5
}
