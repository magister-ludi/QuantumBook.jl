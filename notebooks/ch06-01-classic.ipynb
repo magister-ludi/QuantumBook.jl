{
 "cells": [
  {
   "cell_type": "markdown",
   "id": "8bfe3efb",
   "metadata": {},
   "source": [
    "### 6.2.1 Classical networking\n",
    "This example is simply sending a byte over a socket, using Julia tasks to synchronise execution."
   ]
  },
  {
   "cell_type": "code",
   "execution_count": null,
   "id": "4d1d25d7",
   "metadata": {},
   "outputs": [],
   "source": [
    "using Random\n",
    "using Sockets"
   ]
  },
  {
   "cell_type": "markdown",
   "id": "2e34caa6",
   "metadata": {},
   "source": [
    "The following code is smilar to **Listing 6.1**, providing a \"sender\" method and a \"receiver\" method, each using the `Sockets` API"
   ]
  },
  {
   "cell_type": "code",
   "execution_count": null,
   "id": "b9bc39b8",
   "metadata": {},
   "outputs": [],
   "source": [
    "function runSender(port)\n",
    "    b = rand(UInt8)\n",
    "    println(\"[Sender] Create a connection to port \", port)\n",
    "    # The sender opens a network socket.\n",
    "    socket = connect(port)\n",
    "    println(\"[Sender] Write a byte: \", b)\n",
    "    # The sender writes a specific byte to the socket.\n",
    "    write(socket, b)\n",
    "    println(\"[Sender] Wrote a byte: \", b)\n",
    "    close(socket)\n",
    "end"
   ]
  },
  {
   "cell_type": "code",
   "execution_count": null,
   "id": "49c8771b",
   "metadata": {},
   "outputs": [],
   "source": [
    "function runReceiver(port)\n",
    "    # The receiver opens a network socket,\n",
    "    # listening for incoming requests.\n",
    "    server = listen(port)\n",
    "    println(\"[Receiver] Starting to listen for incoming data at port \", port)\n",
    "    while true\n",
    "        b = nothing\n",
    "        # When a connection is discovered, a direct socket connection\n",
    "        # is created between the sender and the receiver.\n",
    "        sock = accept(server)\n",
    "        while isopen(sock)\n",
    "            # The receiver reads a byte from the connection.\n",
    "            b = read(sock, UInt8)\n",
    "            break\n",
    "        end\n",
    "        # The receiver prints the value of the byte\n",
    "        println(\"[Receiver] Got a byte: \", b)\n",
    "        break\n",
    "    end\n",
    "end"
   ]
  },
  {
   "cell_type": "markdown",
   "id": "5645aa51",
   "metadata": {},
   "source": [
    "The next function uses `runSender` and `runReceiver` to exchange data:"
   ]
  },
  {
   "cell_type": "code",
   "execution_count": null,
   "id": "95343720",
   "metadata": {},
   "outputs": [],
   "source": [
    "function network_example()\n",
    "    port = 9755\n",
    "    # The code for sending bytes is performed in one task.\n",
    "    sender = @task runSender(port)\n",
    "    # The code for receiving bytes is performed in another task.\n",
    "    receiver = @task runReceiver(port)\n",
    "    # Start the receiver task\n",
    "    schedule(receiver)\n",
    "    # Start the sender task\n",
    "    schedule(sender)\n",
    "    # Wait until the receiver exits\n",
    "    wait(receiver)\n",
    "end"
   ]
  },
  {
   "cell_type": "code",
   "execution_count": null,
   "id": "c68a28d9",
   "metadata": {},
   "outputs": [],
   "source": [
    "network_example()"
   ]
  }
 ],
 "metadata": {
  "kernelspec": {
   "display_name": "Julia 1.9.0-beta2",
   "language": "julia",
   "name": "julia-1.9"
  },
  "language_info": {
   "file_extension": ".jl",
   "mimetype": "application/julia",
   "name": "julia",
   "version": "1.9.0"
  }
 },
 "nbformat": 4,
 "nbformat_minor": 5
}
